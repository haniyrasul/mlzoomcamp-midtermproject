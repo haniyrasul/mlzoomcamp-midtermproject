{
 "cells": [
  {
   "cell_type": "code",
   "execution_count": 1,
   "metadata": {
    "_cell_guid": "b1076dfc-b9ad-4769-8c92-a6c4dae69d19",
    "_uuid": "8f2839f25d086af736a60e9eeb907d3b93b6e0e5",
    "execution": {
     "iopub.execute_input": "2024-11-11T05:27:03.251686Z",
     "iopub.status.busy": "2024-11-11T05:27:03.250716Z",
     "iopub.status.idle": "2024-11-11T05:27:06.122461Z",
     "shell.execute_reply": "2024-11-11T05:27:06.121386Z",
     "shell.execute_reply.started": "2024-11-11T05:27:03.251641Z"
    },
    "trusted": true
   },
   "outputs": [],
   "source": [
    "import numpy as np \n",
    "import pandas as pd \n",
    "import matplotlib.pyplot as plt\n",
    "import seaborn as sns"
   ]
  },
  {
   "cell_type": "markdown",
   "metadata": {},
   "source": [
    "### Data preparation"
   ]
  },
  {
   "cell_type": "code",
   "execution_count": 2,
   "metadata": {
    "execution": {
     "iopub.execute_input": "2024-11-08T09:13:55.241672Z",
     "iopub.status.busy": "2024-11-08T09:13:55.241130Z",
     "iopub.status.idle": "2024-11-08T09:13:55.313897Z",
     "shell.execute_reply": "2024-11-08T09:13:55.312581Z",
     "shell.execute_reply.started": "2024-11-08T09:13:55.241627Z"
    },
    "trusted": true
   },
   "outputs": [
    {
     "data": {
      "text/html": [
       "<div>\n",
       "<style scoped>\n",
       "    .dataframe tbody tr th:only-of-type {\n",
       "        vertical-align: middle;\n",
       "    }\n",
       "\n",
       "    .dataframe tbody tr th {\n",
       "        vertical-align: top;\n",
       "    }\n",
       "\n",
       "    .dataframe thead th {\n",
       "        text-align: right;\n",
       "    }\n",
       "</style>\n",
       "<table border=\"1\" class=\"dataframe\">\n",
       "  <thead>\n",
       "    <tr style=\"text-align: right;\">\n",
       "      <th></th>\n",
       "      <th>Company</th>\n",
       "      <th>Product</th>\n",
       "      <th>TypeName</th>\n",
       "      <th>Inches</th>\n",
       "      <th>Ram</th>\n",
       "      <th>OS</th>\n",
       "      <th>Weight</th>\n",
       "      <th>Price_euros</th>\n",
       "      <th>Screen</th>\n",
       "      <th>ScreenW</th>\n",
       "      <th>...</th>\n",
       "      <th>RetinaDisplay</th>\n",
       "      <th>CPU_company</th>\n",
       "      <th>CPU_freq</th>\n",
       "      <th>CPU_model</th>\n",
       "      <th>PrimaryStorage</th>\n",
       "      <th>SecondaryStorage</th>\n",
       "      <th>PrimaryStorageType</th>\n",
       "      <th>SecondaryStorageType</th>\n",
       "      <th>GPU_company</th>\n",
       "      <th>GPU_model</th>\n",
       "    </tr>\n",
       "  </thead>\n",
       "  <tbody>\n",
       "    <tr>\n",
       "      <th>0</th>\n",
       "      <td>Apple</td>\n",
       "      <td>MacBook Pro</td>\n",
       "      <td>Ultrabook</td>\n",
       "      <td>13.3</td>\n",
       "      <td>8</td>\n",
       "      <td>macOS</td>\n",
       "      <td>1.37</td>\n",
       "      <td>1339.69</td>\n",
       "      <td>Standard</td>\n",
       "      <td>2560</td>\n",
       "      <td>...</td>\n",
       "      <td>Yes</td>\n",
       "      <td>Intel</td>\n",
       "      <td>2.3</td>\n",
       "      <td>Core i5</td>\n",
       "      <td>128</td>\n",
       "      <td>0</td>\n",
       "      <td>SSD</td>\n",
       "      <td>No</td>\n",
       "      <td>Intel</td>\n",
       "      <td>Iris Plus Graphics 640</td>\n",
       "    </tr>\n",
       "    <tr>\n",
       "      <th>1</th>\n",
       "      <td>Apple</td>\n",
       "      <td>Macbook Air</td>\n",
       "      <td>Ultrabook</td>\n",
       "      <td>13.3</td>\n",
       "      <td>8</td>\n",
       "      <td>macOS</td>\n",
       "      <td>1.34</td>\n",
       "      <td>898.94</td>\n",
       "      <td>Standard</td>\n",
       "      <td>1440</td>\n",
       "      <td>...</td>\n",
       "      <td>No</td>\n",
       "      <td>Intel</td>\n",
       "      <td>1.8</td>\n",
       "      <td>Core i5</td>\n",
       "      <td>128</td>\n",
       "      <td>0</td>\n",
       "      <td>Flash Storage</td>\n",
       "      <td>No</td>\n",
       "      <td>Intel</td>\n",
       "      <td>HD Graphics 6000</td>\n",
       "    </tr>\n",
       "    <tr>\n",
       "      <th>2</th>\n",
       "      <td>HP</td>\n",
       "      <td>250 G6</td>\n",
       "      <td>Notebook</td>\n",
       "      <td>15.6</td>\n",
       "      <td>8</td>\n",
       "      <td>No OS</td>\n",
       "      <td>1.86</td>\n",
       "      <td>575.00</td>\n",
       "      <td>Full HD</td>\n",
       "      <td>1920</td>\n",
       "      <td>...</td>\n",
       "      <td>No</td>\n",
       "      <td>Intel</td>\n",
       "      <td>2.5</td>\n",
       "      <td>Core i5 7200U</td>\n",
       "      <td>256</td>\n",
       "      <td>0</td>\n",
       "      <td>SSD</td>\n",
       "      <td>No</td>\n",
       "      <td>Intel</td>\n",
       "      <td>HD Graphics 620</td>\n",
       "    </tr>\n",
       "    <tr>\n",
       "      <th>3</th>\n",
       "      <td>Apple</td>\n",
       "      <td>MacBook Pro</td>\n",
       "      <td>Ultrabook</td>\n",
       "      <td>15.4</td>\n",
       "      <td>16</td>\n",
       "      <td>macOS</td>\n",
       "      <td>1.83</td>\n",
       "      <td>2537.45</td>\n",
       "      <td>Standard</td>\n",
       "      <td>2880</td>\n",
       "      <td>...</td>\n",
       "      <td>Yes</td>\n",
       "      <td>Intel</td>\n",
       "      <td>2.7</td>\n",
       "      <td>Core i7</td>\n",
       "      <td>512</td>\n",
       "      <td>0</td>\n",
       "      <td>SSD</td>\n",
       "      <td>No</td>\n",
       "      <td>AMD</td>\n",
       "      <td>Radeon Pro 455</td>\n",
       "    </tr>\n",
       "    <tr>\n",
       "      <th>4</th>\n",
       "      <td>Apple</td>\n",
       "      <td>MacBook Pro</td>\n",
       "      <td>Ultrabook</td>\n",
       "      <td>13.3</td>\n",
       "      <td>8</td>\n",
       "      <td>macOS</td>\n",
       "      <td>1.37</td>\n",
       "      <td>1803.60</td>\n",
       "      <td>Standard</td>\n",
       "      <td>2560</td>\n",
       "      <td>...</td>\n",
       "      <td>Yes</td>\n",
       "      <td>Intel</td>\n",
       "      <td>3.1</td>\n",
       "      <td>Core i5</td>\n",
       "      <td>256</td>\n",
       "      <td>0</td>\n",
       "      <td>SSD</td>\n",
       "      <td>No</td>\n",
       "      <td>Intel</td>\n",
       "      <td>Iris Plus Graphics 650</td>\n",
       "    </tr>\n",
       "  </tbody>\n",
       "</table>\n",
       "<p>5 rows × 23 columns</p>\n",
       "</div>"
      ],
      "text/plain": [
       "  Company      Product   TypeName  Inches  Ram     OS  Weight  Price_euros  \\\n",
       "0   Apple  MacBook Pro  Ultrabook    13.3    8  macOS    1.37      1339.69   \n",
       "1   Apple  Macbook Air  Ultrabook    13.3    8  macOS    1.34       898.94   \n",
       "2      HP       250 G6   Notebook    15.6    8  No OS    1.86       575.00   \n",
       "3   Apple  MacBook Pro  Ultrabook    15.4   16  macOS    1.83      2537.45   \n",
       "4   Apple  MacBook Pro  Ultrabook    13.3    8  macOS    1.37      1803.60   \n",
       "\n",
       "     Screen  ScreenW  ...  RetinaDisplay CPU_company CPU_freq      CPU_model  \\\n",
       "0  Standard     2560  ...            Yes       Intel      2.3        Core i5   \n",
       "1  Standard     1440  ...             No       Intel      1.8        Core i5   \n",
       "2   Full HD     1920  ...             No       Intel      2.5  Core i5 7200U   \n",
       "3  Standard     2880  ...            Yes       Intel      2.7        Core i7   \n",
       "4  Standard     2560  ...            Yes       Intel      3.1        Core i5   \n",
       "\n",
       "  PrimaryStorage  SecondaryStorage PrimaryStorageType  SecondaryStorageType  \\\n",
       "0            128                 0                SSD                    No   \n",
       "1            128                 0      Flash Storage                    No   \n",
       "2            256                 0                SSD                    No   \n",
       "3            512                 0                SSD                    No   \n",
       "4            256                 0                SSD                    No   \n",
       "\n",
       "   GPU_company               GPU_model  \n",
       "0        Intel  Iris Plus Graphics 640  \n",
       "1        Intel        HD Graphics 6000  \n",
       "2        Intel         HD Graphics 620  \n",
       "3          AMD          Radeon Pro 455  \n",
       "4        Intel  Iris Plus Graphics 650  \n",
       "\n",
       "[5 rows x 23 columns]"
      ]
     },
     "execution_count": 2,
     "metadata": {},
     "output_type": "execute_result"
    }
   ],
   "source": [
    "df = pd.read_csv('laptop_prices.csv')\n",
    "df.head()"
   ]
  },
  {
   "cell_type": "code",
   "execution_count": 3,
   "metadata": {
    "execution": {
     "iopub.execute_input": "2024-11-08T09:14:22.207927Z",
     "iopub.status.busy": "2024-11-08T09:14:22.207432Z",
     "iopub.status.idle": "2024-11-08T09:14:22.214782Z",
     "shell.execute_reply": "2024-11-08T09:14:22.213428Z",
     "shell.execute_reply.started": "2024-11-08T09:14:22.207882Z"
    },
    "trusted": true
   },
   "outputs": [],
   "source": [
    "# converting columns strings\n",
    "df.columns = df.columns.str.lower().str.replace(' ', '_')"
   ]
  },
  {
   "cell_type": "code",
   "execution_count": 4,
   "metadata": {
    "execution": {
     "iopub.execute_input": "2024-11-08T09:14:36.635434Z",
     "iopub.status.busy": "2024-11-08T09:14:36.634849Z",
     "iopub.status.idle": "2024-11-08T09:14:36.651853Z",
     "shell.execute_reply": "2024-11-08T09:14:36.650523Z",
     "shell.execute_reply.started": "2024-11-08T09:14:36.635372Z"
    },
    "trusted": true
   },
   "outputs": [
    {
     "data": {
      "text/plain": [
       "company                 0\n",
       "product                 0\n",
       "typename                0\n",
       "inches                  0\n",
       "ram                     0\n",
       "os                      0\n",
       "weight                  0\n",
       "price_euros             0\n",
       "screen                  0\n",
       "screenw                 0\n",
       "screenh                 0\n",
       "touchscreen             0\n",
       "ipspanel                0\n",
       "retinadisplay           0\n",
       "cpu_company             0\n",
       "cpu_freq                0\n",
       "cpu_model               0\n",
       "primarystorage          0\n",
       "secondarystorage        0\n",
       "primarystoragetype      0\n",
       "secondarystoragetype    0\n",
       "gpu_company             0\n",
       "gpu_model               0\n",
       "dtype: int64"
      ]
     },
     "execution_count": 4,
     "metadata": {},
     "output_type": "execute_result"
    }
   ],
   "source": [
    "# checking missing values\n",
    "df.isnull().sum()"
   ]
  },
  {
   "cell_type": "code",
   "execution_count": 5,
   "metadata": {},
   "outputs": [
    {
     "data": {
      "text/plain": [
       "Index(['company', 'product', 'typename', 'inches', 'ram', 'os', 'weight',\n",
       "       'price_euros', 'screen', 'screenw', 'screenh', 'touchscreen',\n",
       "       'ipspanel', 'retinadisplay', 'cpu_company', 'cpu_freq', 'cpu_model',\n",
       "       'primarystorage', 'secondarystorage', 'primarystoragetype',\n",
       "       'secondarystoragetype', 'gpu_company', 'gpu_model'],\n",
       "      dtype='object')"
      ]
     },
     "execution_count": 5,
     "metadata": {},
     "output_type": "execute_result"
    }
   ],
   "source": [
    "# checking columns\n",
    "df.columns"
   ]
  },
  {
   "cell_type": "markdown",
   "metadata": {},
   "source": [
    "### EDA"
   ]
  },
  {
   "cell_type": "markdown",
   "metadata": {},
   "source": [
    "```\n",
    "1. company: with significant amount of laptops.\n",
    "2. unwanted columns: 'product', 'touchscreen', 'ipspanel', 'retinadisplay', 'secondarystorage', 'secondarystoragetype'\n",
    "3. typename: Consider with significant values.\n",
    "4. inches & weight: convert it into categories\n",
    "5. ram, cpu_company, cpu_freq, gpu_company, gpu_model, screen, os : No Changes\n",
    "6. price_euros: convert it into lkr\n",
    "7. screenw & screenh: convert it into resolution\n",
    "8. cpu_model: converting to: i3, i5, i7 or AMD\n",
    "```"
   ]
  },
  {
   "cell_type": "code",
   "execution_count": 6,
   "metadata": {},
   "outputs": [],
   "source": [
    "# removing: unwanted columns\n",
    "df = df.drop(['product', 'touchscreen', 'ipspanel', 'retinadisplay', 'secondarystorage', 'secondarystoragetype'], axis=1)"
   ]
  },
  {
   "cell_type": "code",
   "execution_count": 7,
   "metadata": {},
   "outputs": [
    {
     "data": {
      "text/html": [
       "<div>\n",
       "<style scoped>\n",
       "    .dataframe tbody tr th:only-of-type {\n",
       "        vertical-align: middle;\n",
       "    }\n",
       "\n",
       "    .dataframe tbody tr th {\n",
       "        vertical-align: top;\n",
       "    }\n",
       "\n",
       "    .dataframe thead th {\n",
       "        text-align: right;\n",
       "    }\n",
       "</style>\n",
       "<table border=\"1\" class=\"dataframe\">\n",
       "  <thead>\n",
       "    <tr style=\"text-align: right;\">\n",
       "      <th></th>\n",
       "      <th>company</th>\n",
       "      <th>typename</th>\n",
       "      <th>inches</th>\n",
       "      <th>ram</th>\n",
       "      <th>os</th>\n",
       "      <th>weight</th>\n",
       "      <th>price_euros</th>\n",
       "      <th>screen</th>\n",
       "      <th>screenw</th>\n",
       "      <th>screenh</th>\n",
       "      <th>cpu_company</th>\n",
       "      <th>cpu_freq</th>\n",
       "      <th>cpu_model</th>\n",
       "      <th>primarystorage</th>\n",
       "      <th>primarystoragetype</th>\n",
       "      <th>gpu_company</th>\n",
       "      <th>gpu_model</th>\n",
       "    </tr>\n",
       "  </thead>\n",
       "  <tbody>\n",
       "    <tr>\n",
       "      <th>0</th>\n",
       "      <td>Apple</td>\n",
       "      <td>Ultrabook</td>\n",
       "      <td>13.3</td>\n",
       "      <td>8</td>\n",
       "      <td>macOS</td>\n",
       "      <td>1.37</td>\n",
       "      <td>1339.69</td>\n",
       "      <td>Standard</td>\n",
       "      <td>2560</td>\n",
       "      <td>1600</td>\n",
       "      <td>Intel</td>\n",
       "      <td>2.3</td>\n",
       "      <td>Core i5</td>\n",
       "      <td>128</td>\n",
       "      <td>SSD</td>\n",
       "      <td>Intel</td>\n",
       "      <td>Iris Plus Graphics 640</td>\n",
       "    </tr>\n",
       "    <tr>\n",
       "      <th>1</th>\n",
       "      <td>Apple</td>\n",
       "      <td>Ultrabook</td>\n",
       "      <td>13.3</td>\n",
       "      <td>8</td>\n",
       "      <td>macOS</td>\n",
       "      <td>1.34</td>\n",
       "      <td>898.94</td>\n",
       "      <td>Standard</td>\n",
       "      <td>1440</td>\n",
       "      <td>900</td>\n",
       "      <td>Intel</td>\n",
       "      <td>1.8</td>\n",
       "      <td>Core i5</td>\n",
       "      <td>128</td>\n",
       "      <td>Flash Storage</td>\n",
       "      <td>Intel</td>\n",
       "      <td>HD Graphics 6000</td>\n",
       "    </tr>\n",
       "  </tbody>\n",
       "</table>\n",
       "</div>"
      ],
      "text/plain": [
       "  company   typename  inches  ram     os  weight  price_euros    screen  \\\n",
       "0   Apple  Ultrabook    13.3    8  macOS    1.37      1339.69  Standard   \n",
       "1   Apple  Ultrabook    13.3    8  macOS    1.34       898.94  Standard   \n",
       "\n",
       "   screenw  screenh cpu_company  cpu_freq cpu_model  primarystorage  \\\n",
       "0     2560     1600       Intel       2.3   Core i5             128   \n",
       "1     1440      900       Intel       1.8   Core i5             128   \n",
       "\n",
       "  primarystoragetype gpu_company               gpu_model  \n",
       "0                SSD       Intel  Iris Plus Graphics 640  \n",
       "1      Flash Storage       Intel        HD Graphics 6000  "
      ]
     },
     "execution_count": 7,
     "metadata": {},
     "output_type": "execute_result"
    }
   ],
   "source": [
    "df.head(2)"
   ]
  },
  {
   "cell_type": "code",
   "execution_count": 8,
   "metadata": {
    "trusted": true
   },
   "outputs": [],
   "source": [
    "# company\n",
    "brands = df.company.unique()"
   ]
  },
  {
   "cell_type": "code",
   "execution_count": 9,
   "metadata": {
    "execution": {
     "iopub.execute_input": "2024-11-08T09:22:13.865791Z",
     "iopub.status.busy": "2024-11-08T09:22:13.865340Z",
     "iopub.status.idle": "2024-11-08T09:22:13.917392Z",
     "shell.execute_reply": "2024-11-08T09:22:13.915887Z",
     "shell.execute_reply.started": "2024-11-08T09:22:13.865747Z"
    },
    "trusted": true
   },
   "outputs": [
    {
     "name": "stdout",
     "output_type": "stream",
     "text": [
      "Apple: 21\n",
      "HP: 268\n",
      "Acer: 101\n",
      "Asus: 152\n",
      "Dell: 291\n",
      "Lenovo: 289\n",
      "Chuwi: 3\n",
      "MSI: 54\n",
      "Microsoft: 6\n",
      "Toshiba: 48\n",
      "Huawei: 2\n",
      "Xiaomi: 4\n",
      "Vero: 4\n",
      "Razer: 7\n",
      "Mediacom: 7\n",
      "Samsung: 9\n",
      "Google: 3\n",
      "Fujitsu: 3\n",
      "LG: 3\n",
      "\n",
      "total laptops: 1275\n"
     ]
    }
   ],
   "source": [
    "laps = 0\n",
    "for brand in brands:\n",
    "    print(f'{brand}: {len(df[df.company == brand])}')\n",
    "    laps += len(df[df.company == brand])\n",
    "\n",
    "print(f'\\ntotal laptops: {laps}')"
   ]
  },
  {
   "cell_type": "code",
   "execution_count": 10,
   "metadata": {
    "execution": {
     "iopub.execute_input": "2024-11-08T09:26:34.086218Z",
     "iopub.status.busy": "2024-11-08T09:26:34.085737Z",
     "iopub.status.idle": "2024-11-08T09:26:34.095071Z",
     "shell.execute_reply": "2024-11-08T09:26:34.093930Z",
     "shell.execute_reply.started": "2024-11-08T09:26:34.086173Z"
    },
    "trusted": true
   },
   "outputs": [
    {
     "data": {
      "text/plain": [
       "array(['Apple', 'HP', 'Acer', 'Asus', 'Dell', 'Lenovo', 'Chuwi', 'MSI',\n",
       "       'Microsoft', 'Toshiba', 'Huawei', 'Xiaomi', 'Vero', 'Razer',\n",
       "       'Mediacom', 'Samsung', 'Google', 'Fujitsu', 'LG'], dtype=object)"
      ]
     },
     "execution_count": 10,
     "metadata": {},
     "output_type": "execute_result"
    }
   ],
   "source": [
    "#We'll consider the brands which has more the 21 laptops. As, Apple is the min.\n",
    "df.company.unique()"
   ]
  },
  {
   "cell_type": "code",
   "execution_count": 11,
   "metadata": {
    "execution": {
     "iopub.execute_input": "2024-11-08T09:31:37.570122Z",
     "iopub.status.busy": "2024-11-08T09:31:37.569633Z",
     "iopub.status.idle": "2024-11-08T09:31:37.576336Z",
     "shell.execute_reply": "2024-11-08T09:31:37.575040Z",
     "shell.execute_reply.started": "2024-11-08T09:31:37.570078Z"
    },
    "trusted": true
   },
   "outputs": [],
   "source": [
    "remv_brands = ['Chuwi', 'MSI', 'Microsoft', 'Huawei', 'Xiaomi', 'Vero', 'Razer','Mediacom', 'Samsung', 'Google', 'Fujitsu', 'LG']"
   ]
  },
  {
   "cell_type": "code",
   "execution_count": 12,
   "metadata": {
    "execution": {
     "iopub.execute_input": "2024-11-08T09:32:00.234120Z",
     "iopub.status.busy": "2024-11-08T09:32:00.233629Z",
     "iopub.status.idle": "2024-11-08T09:32:00.246276Z",
     "shell.execute_reply": "2024-11-08T09:32:00.244915Z",
     "shell.execute_reply.started": "2024-11-08T09:32:00.234072Z"
    },
    "trusted": true
   },
   "outputs": [],
   "source": [
    "df = df[~df['company'].isin(remv_brands)]"
   ]
  },
  {
   "cell_type": "code",
   "execution_count": 13,
   "metadata": {},
   "outputs": [],
   "source": [
    "df = df.reset_index(drop=True)"
   ]
  },
  {
   "cell_type": "code",
   "execution_count": 14,
   "metadata": {},
   "outputs": [
    {
     "data": {
      "image/png": "[encoded data removed]",
      "text/plain": [
       "<Figure size 1000x600 with 1 Axes>"
      ]
     },
     "metadata": {},
     "output_type": "display_data"
    }
   ],
   "source": [
    "# typename\n",
    "\n",
    "# Count occurrences of each typenames within each company\n",
    "count_df = df.groupby(['company', 'typename']).size().unstack(fill_value=0)\n",
    "\n",
    "# Choose a color palette (e.g., \"Set2\" for soft, modern colors)\n",
    "color_palette = sns.color_palette(\"Spectral\", n_colors=len(count_df.columns))\n",
    "\n",
    "# Plot stacked bar chart with modern colors\n",
    "count_df.plot(kind='bar', stacked=True, figsize=(10, 6), color=color_palette)\n",
    "\n",
    "# Customizing the plot\n",
    "plt.title(\"Distribution of Brands by Laptop Type\")\n",
    "plt.xlabel(\"Company\")\n",
    "plt.ylabel(\"Count\")\n",
    "plt.legend(title=\"Laptop Type\", bbox_to_anchor=(1.05, 1), loc='upper left')\n",
    "plt.xticks(rotation=45)\n",
    "plt.show()"
   ]
  },
  {
   "cell_type": "code",
   "execution_count": 15,
   "metadata": {},
   "outputs": [],
   "source": [
    "# This plot shows that this feature will not be helpful as there is different distributions within the company and typenames.\n",
    "df = df.drop(['typename'], axis=1)"
   ]
  },
  {
   "cell_type": "code",
   "execution_count": 16,
   "metadata": {},
   "outputs": [
    {
     "data": {
      "text/plain": [
       "14"
      ]
     },
     "execution_count": 16,
     "metadata": {},
     "output_type": "execute_result"
    }
   ],
   "source": [
    "# inches & weight\n",
    "df.inches.nunique()"
   ]
  },
  {
   "cell_type": "code",
   "execution_count": 17,
   "metadata": {},
   "outputs": [
    {
     "name": "stdout",
     "output_type": "stream",
     "text": [
      "inches: count    1170.000000\n",
      "mean       15.003077\n",
      "std         1.401767\n",
      "min        10.100000\n",
      "25%        14.000000\n",
      "50%        15.600000\n",
      "75%        15.600000\n",
      "max        17.300000\n",
      "Name: inches, dtype: float64, \n",
      "\n",
      "weight: count    1170.000000\n",
      "mean        2.035634\n",
      "std         0.649615\n",
      "min         0.690000\n",
      "25%         1.540000\n",
      "50%         2.040000\n",
      "75%         2.300000\n",
      "max         4.700000\n",
      "Name: weight, dtype: float64\n"
     ]
    }
   ],
   "source": [
    "print(f'inches: {df.inches.describe()}, \\n\\nweight: {df.weight.describe()}')"
   ]
  },
  {
   "cell_type": "code",
   "execution_count": 18,
   "metadata": {},
   "outputs": [],
   "source": [
    "def category(inches, weight):\n",
    "    if inches <= 14 and weight <= 1.54:\n",
    "        return 'portable'\n",
    "    elif inches > 15.6 and weight > 2.3:\n",
    "        return 'heavy duty'\n",
    "    elif inches > 14 and inches <= 15.6 and weight > 1.54 and weight <= 2.3:\n",
    "        return 'standard'\n",
    "    else:\n",
    "        return 'Other'"
   ]
  },
  {
   "cell_type": "code",
   "execution_count": 19,
   "metadata": {},
   "outputs": [],
   "source": [
    "# Apply the function to create a new column\n",
    "df['category'] = df.apply(lambda row: category(row['inches'], row['weight']), axis=1)"
   ]
  },
  {
   "cell_type": "code",
   "execution_count": 20,
   "metadata": {},
   "outputs": [
    {
     "data": {
      "image/png": "[encoded data removed]",
      "text/plain": [
       "<Figure size 640x480 with 1 Axes>"
      ]
     },
     "metadata": {},
     "output_type": "display_data"
    }
   ],
   "source": [
    "sns.histplot(data=df, y='category', color='limegreen');"
   ]
  },
  {
   "cell_type": "code",
   "execution_count": 21,
   "metadata": {},
   "outputs": [],
   "source": [
    "# removing inches and weight columns\n",
    "df = df.drop(['inches', 'weight'], axis=1)"
   ]
  },
  {
   "cell_type": "code",
   "execution_count": 22,
   "metadata": {},
   "outputs": [
    {
     "data": {
      "text/plain": [
       "array(['macOS', 'No OS', 'Windows 10', 'Mac OS X', 'Linux', 'Android',\n",
       "       'Windows 10 S', 'Chrome OS', 'Windows 7'], dtype=object)"
      ]
     },
     "execution_count": 22,
     "metadata": {},
     "output_type": "execute_result"
    }
   ],
   "source": [
    "# os\n",
    "df.os.unique()"
   ]
  },
  {
   "cell_type": "code",
   "execution_count": 23,
   "metadata": {},
   "outputs": [
    {
     "name": "stdout",
     "output_type": "stream",
     "text": [
      "macOS: 13\n",
      "No OS: 63\n",
      "Windows 10: 957\n",
      "Mac OS X: 8\n",
      "Linux: 58\n",
      "Android: 2\n",
      "Windows 10 S: 2\n",
      "Chrome OS: 22\n",
      "Windows 7: 45\n"
     ]
    }
   ],
   "source": [
    "for os in list(df.os.unique()):\n",
    "    print(f'{os}: {len(df[df.os == os])}')"
   ]
  },
  {
   "cell_type": "code",
   "execution_count": 24,
   "metadata": {},
   "outputs": [],
   "source": [
    "#We can have major three OS: Windows, Mac, Other\n",
    "def OS(os):\n",
    "    if 'Windows' in os:\n",
    "        return 'windows'\n",
    "    elif 'Mac' in os or 'mac' in os:\n",
    "        return 'mac'\n",
    "    else:\n",
    "        return 'other'"
   ]
  },
  {
   "cell_type": "code",
   "execution_count": 25,
   "metadata": {},
   "outputs": [],
   "source": [
    "df['OS'] = df['os'].apply(OS)"
   ]
  },
  {
   "cell_type": "code",
   "execution_count": 26,
   "metadata": {},
   "outputs": [],
   "source": [
    "df = df.drop('os', axis=1)"
   ]
  },
  {
   "cell_type": "code",
   "execution_count": 27,
   "metadata": {},
   "outputs": [
    {
     "data": {
      "text/html": [
       "<div>\n",
       "<style scoped>\n",
       "    .dataframe tbody tr th:only-of-type {\n",
       "        vertical-align: middle;\n",
       "    }\n",
       "\n",
       "    .dataframe tbody tr th {\n",
       "        vertical-align: top;\n",
       "    }\n",
       "\n",
       "    .dataframe thead th {\n",
       "        text-align: right;\n",
       "    }\n",
       "</style>\n",
       "<table border=\"1\" class=\"dataframe\">\n",
       "  <thead>\n",
       "    <tr style=\"text-align: right;\">\n",
       "      <th></th>\n",
       "      <th>company</th>\n",
       "      <th>ram</th>\n",
       "      <th>price_euros</th>\n",
       "      <th>screen</th>\n",
       "      <th>screenw</th>\n",
       "      <th>screenh</th>\n",
       "      <th>cpu_company</th>\n",
       "      <th>cpu_freq</th>\n",
       "      <th>cpu_model</th>\n",
       "      <th>primarystorage</th>\n",
       "      <th>primarystoragetype</th>\n",
       "      <th>gpu_company</th>\n",
       "      <th>gpu_model</th>\n",
       "      <th>category</th>\n",
       "      <th>OS</th>\n",
       "    </tr>\n",
       "  </thead>\n",
       "  <tbody>\n",
       "    <tr>\n",
       "      <th>0</th>\n",
       "      <td>Apple</td>\n",
       "      <td>8</td>\n",
       "      <td>1339.69</td>\n",
       "      <td>Standard</td>\n",
       "      <td>2560</td>\n",
       "      <td>1600</td>\n",
       "      <td>Intel</td>\n",
       "      <td>2.3</td>\n",
       "      <td>Core i5</td>\n",
       "      <td>128</td>\n",
       "      <td>SSD</td>\n",
       "      <td>Intel</td>\n",
       "      <td>Iris Plus Graphics 640</td>\n",
       "      <td>portable</td>\n",
       "      <td>mac</td>\n",
       "    </tr>\n",
       "    <tr>\n",
       "      <th>1</th>\n",
       "      <td>Apple</td>\n",
       "      <td>8</td>\n",
       "      <td>898.94</td>\n",
       "      <td>Standard</td>\n",
       "      <td>1440</td>\n",
       "      <td>900</td>\n",
       "      <td>Intel</td>\n",
       "      <td>1.8</td>\n",
       "      <td>Core i5</td>\n",
       "      <td>128</td>\n",
       "      <td>Flash Storage</td>\n",
       "      <td>Intel</td>\n",
       "      <td>HD Graphics 6000</td>\n",
       "      <td>portable</td>\n",
       "      <td>mac</td>\n",
       "    </tr>\n",
       "    <tr>\n",
       "      <th>2</th>\n",
       "      <td>HP</td>\n",
       "      <td>8</td>\n",
       "      <td>575.00</td>\n",
       "      <td>Full HD</td>\n",
       "      <td>1920</td>\n",
       "      <td>1080</td>\n",
       "      <td>Intel</td>\n",
       "      <td>2.5</td>\n",
       "      <td>Core i5 7200U</td>\n",
       "      <td>256</td>\n",
       "      <td>SSD</td>\n",
       "      <td>Intel</td>\n",
       "      <td>HD Graphics 620</td>\n",
       "      <td>standard</td>\n",
       "      <td>other</td>\n",
       "    </tr>\n",
       "  </tbody>\n",
       "</table>\n",
       "</div>"
      ],
      "text/plain": [
       "  company  ram  price_euros    screen  screenw  screenh cpu_company  cpu_freq  \\\n",
       "0   Apple    8      1339.69  Standard     2560     1600       Intel       2.3   \n",
       "1   Apple    8       898.94  Standard     1440      900       Intel       1.8   \n",
       "2      HP    8       575.00   Full HD     1920     1080       Intel       2.5   \n",
       "\n",
       "       cpu_model  primarystorage primarystoragetype gpu_company  \\\n",
       "0        Core i5             128                SSD       Intel   \n",
       "1        Core i5             128      Flash Storage       Intel   \n",
       "2  Core i5 7200U             256                SSD       Intel   \n",
       "\n",
       "                gpu_model  category     OS  \n",
       "0  Iris Plus Graphics 640  portable    mac  \n",
       "1        HD Graphics 6000  portable    mac  \n",
       "2         HD Graphics 620  standard  other  "
      ]
     },
     "execution_count": 27,
     "metadata": {},
     "output_type": "execute_result"
    }
   ],
   "source": [
    "df.head(3)"
   ]
  },
  {
   "cell_type": "code",
   "execution_count": 28,
   "metadata": {},
   "outputs": [
    {
     "data": {
      "text/plain": [
       "array(['Standard', 'Full HD', 'Quad HD+', '4K Ultra HD'], dtype=object)"
      ]
     },
     "execution_count": 28,
     "metadata": {},
     "output_type": "execute_result"
    }
   ],
   "source": [
    "# screen, screenw, screenh\n",
    "df.screen.unique()"
   ]
  },
  {
   "cell_type": "code",
   "execution_count": 29,
   "metadata": {},
   "outputs": [
    {
     "name": "stdout",
     "output_type": "stream",
     "text": [
      "Standard: 352\n",
      "Full HD: 753\n",
      "Quad HD+: 28\n",
      "4K Ultra HD: 37\n"
     ]
    }
   ],
   "source": [
    "for screen in list(df.screen.unique()):\n",
    "    print(f'{screen}: {len(df[df.screen == screen])}')"
   ]
  },
  {
   "cell_type": "code",
   "execution_count": 30,
   "metadata": {},
   "outputs": [
    {
     "name": "stdout",
     "output_type": "stream",
     "text": [
      "w: count    1170.000000\n",
      "mean     1886.302564\n",
      "std       492.219742\n",
      "min      1366.000000\n",
      "25%      1600.000000\n",
      "50%      1920.000000\n",
      "75%      1920.000000\n",
      "max      3840.000000\n",
      "Name: screenw, dtype: float64 \n",
      "\n",
      "h: count    1170.000000\n",
      "mean     1063.846154\n",
      "std       280.445284\n",
      "min       768.000000\n",
      "25%       900.000000\n",
      "50%      1080.000000\n",
      "75%      1080.000000\n",
      "max      2160.000000\n",
      "Name: screenh, dtype: float64\n"
     ]
    }
   ],
   "source": [
    "print(f'w: {df.screenw.describe()} \\n\\nh: {df.screenh.describe()}')"
   ]
  },
  {
   "cell_type": "code",
   "execution_count": 31,
   "metadata": {},
   "outputs": [],
   "source": [
    "df['res'] = df['screenw'] * df['screenh']"
   ]
  },
  {
   "cell_type": "code",
   "execution_count": 32,
   "metadata": {},
   "outputs": [],
   "source": [
    "def resolution(res):\n",
    "    if res < 1920*1080:\n",
    "        return 'HD'\n",
    "    elif 1920*1080 <= res < 2560*1440:\n",
    "        return 'FullHD'\n",
    "    elif 2560*1440 <= res < 3840*2160:\n",
    "        return 'QuadHD'\n",
    "    elif 3840*2160 <= res < 7680*2160:\n",
    "        return 'UltraHD'\n",
    "    else:\n",
    "        return '8K'"
   ]
  },
  {
   "cell_type": "code",
   "execution_count": 33,
   "metadata": {},
   "outputs": [],
   "source": [
    "df['resolution'] = df['res'].apply(resolution)"
   ]
  },
  {
   "cell_type": "code",
   "execution_count": 34,
   "metadata": {},
   "outputs": [],
   "source": [
    "df = df.drop(['screen', 'screenw', 'screenh', 'res'], axis=1)"
   ]
  },
  {
   "cell_type": "code",
   "execution_count": 35,
   "metadata": {},
   "outputs": [
    {
     "data": {
      "text/plain": [
       "array(['Intel', 'AMD'], dtype=object)"
      ]
     },
     "execution_count": 35,
     "metadata": {},
     "output_type": "execute_result"
    }
   ],
   "source": [
    "df.cpu_company.unique()"
   ]
  },
  {
   "cell_type": "code",
   "execution_count": 36,
   "metadata": {},
   "outputs": [
    {
     "name": "stdout",
     "output_type": "stream",
     "text": [
      "Intel: 94.87179487179486\n",
      "AMD: 5.128205128205128\n"
     ]
    }
   ],
   "source": [
    "for cpu in list(df.cpu_company.unique()):\n",
    "    print(f'{cpu}: {len(df[df.cpu_company == cpu])/len(df.cpu_company)*100}')"
   ]
  },
  {
   "cell_type": "code",
   "execution_count": 37,
   "metadata": {},
   "outputs": [
    {
     "data": {
      "image/png": "[encoded data removed]",
      "text/plain": [
       "<Figure size 640x480 with 1 Axes>"
      ]
     },
     "metadata": {},
     "output_type": "display_data"
    }
   ],
   "source": [
    "counts = df.groupby(['company', 'cpu_company']).size().reset_index(name='counts')\n",
    "\n",
    "sns.barplot(data=counts, x='company', y='counts', hue='cpu_company', palette='Set2');"
   ]
  },
  {
   "cell_type": "code",
   "execution_count": 38,
   "metadata": {},
   "outputs": [],
   "source": [
    "# processor category\n",
    "def processor_category(model):\n",
    "    if 'i3' in model:\n",
    "        return 'i3'\n",
    "    elif 'i5' in model:\n",
    "        return 'i5'\n",
    "    elif 'i7' in model:\n",
    "        return 'i7'\n",
    "    else:\n",
    "        return 'AMD'"
   ]
  },
  {
   "cell_type": "code",
   "execution_count": 39,
   "metadata": {},
   "outputs": [
    {
     "name": "stdout",
     "output_type": "stream",
     "text": [
      "i5: 405\n",
      "i7: 445\n",
      "AMD: 186\n",
      "i3: 134\n"
     ]
    }
   ],
   "source": [
    "df['gen'] = df['cpu_model'].apply(processor_category)\n",
    "\n",
    "for gen in list(df.gen.unique()):\n",
    "    print(f'{gen}: {len(df[df.gen == gen])}')"
   ]
  },
  {
   "cell_type": "code",
   "execution_count": 40,
   "metadata": {},
   "outputs": [
    {
     "data": {
      "text/plain": [
       "107"
      ]
     },
     "execution_count": 40,
     "metadata": {},
     "output_type": "execute_result"
    }
   ],
   "source": [
    "# gpu\n",
    "df.gpu_model.nunique()"
   ]
  },
  {
   "cell_type": "code",
   "execution_count": 41,
   "metadata": {},
   "outputs": [
    {
     "name": "stdout",
     "output_type": "stream",
     "text": [
      "Iris Plus Graphics 640: 5\n",
      "HD Graphics 6000: 5\n",
      "HD Graphics 620: 265\n",
      "Radeon Pro 455: 1\n",
      "Iris Plus Graphics 650: 2\n",
      "Radeon R5: 11\n",
      "Iris Pro Graphics: 1\n",
      "GeForce MX150: 12\n",
      "UHD Graphics 620: 68\n",
      "HD Graphics 520: 179\n",
      "Radeon Pro 555: 1\n",
      "Radeon R5 M430: 20\n",
      "HD Graphics 615: 10\n",
      "Radeon Pro 560: 1\n",
      "GeForce 940MX: 41\n",
      "HD Graphics 400: 29\n",
      "GeForce GTX 1050: 53\n",
      "Radeon R2: 5\n",
      "Radeon 530: 41\n",
      "GeForce 930MX: 20\n",
      "HD Graphics 500: 33\n",
      "GeForce 930MX : 5\n",
      "GeForce GTX 1060: 31\n",
      "GeForce 150MX: 3\n",
      "Iris Graphics 540: 2\n",
      "Radeon RX 580: 5\n",
      "GeForce 920MX: 13\n",
      "Radeon R4 Graphics: 5\n",
      "Radeon 520: 17\n",
      "GeForce GTX 1050 Ti: 21\n",
      "GeForce MX130: 6\n",
      "R4 Graphics: 1\n",
      "GeForce GTX 940MX: 4\n",
      "Radeon RX 560: 1\n",
      "GeForce 920M: 4\n",
      "Radeon R7 M445: 14\n",
      "Radeon RX 550: 4\n",
      "GeForce GTX 1050M: 3\n",
      "HD Graphics 515: 13\n",
      "Radeon R5 M420: 8\n",
      "HD Graphics 505: 12\n",
      "R17M-M1-70: 1\n",
      "Quadro M1200: 9\n",
      "GeForce 920MX : 5\n",
      "GeForce GTX 950M: 7\n",
      "FirePro W4190M : 2\n",
      "GeForce GTX 1080: 4\n",
      "GeForce GTX 980M: 7\n",
      "Iris Graphics 550: 1\n",
      "GeForce 930M: 6\n",
      "HD Graphics 630: 4\n",
      "HD Graphics: 18\n",
      "Radeon R5 430: 1\n",
      "GeForce GTX 1070: 20\n",
      "GeForce GTX 940M: 1\n",
      "HD Graphics 510: 4\n",
      "HD Graphics 405: 9\n",
      "Radeon RX 540: 2\n",
      "GeForce GT 940MX: 5\n",
      "FirePro W5130M: 1\n",
      "Quadro M2200M: 3\n",
      "Radeon R4: 3\n",
      "Quadro M620: 5\n",
      "Radeon R7 M460: 2\n",
      "HD Graphics 530: 1\n",
      "GeForce GTX 965M: 3\n",
      "GeForce GTX1080: 1\n",
      "GeForce GTX1050 Ti: 1\n",
      "GeForce GTX 960M: 9\n",
      "Radeon R2 Graphics: 4\n",
      "Quadro M620M: 1\n",
      "GeForce GTX 960<U+039C>: 2\n",
      "Graphics 620: 1\n",
      "GeForce GTX 960: 2\n",
      "Radeon R5 520: 1\n",
      "Radeon R7 M440: 3\n",
      "Radeon R7: 1\n",
      "Quadro M520M: 2\n",
      "Quadro M2200: 2\n",
      "Quadro M2000M: 2\n",
      "HD Graphics 540: 1\n",
      "Quadro M1000M: 4\n",
      "GeForce GTX 1070M: 1\n",
      "GeForce GTX1060: 1\n",
      "HD Graphics 5300: 2\n",
      "Radeon R5 M420X: 3\n",
      "Radeon R7 Graphics: 1\n",
      "GeForce 920: 1\n",
      "GeForce 940M: 1\n",
      "GeForce GTX 930MX: 1\n",
      "Radeon R7 M465: 1\n",
      "Radeon R3: 1\n",
      "GeForce GTX 1050Ti: 2\n",
      "Radeon R7 M365X: 1\n",
      "Radeon R9 M385: 1\n",
      "HD Graphics 620 : 1\n",
      "Quadro 3000M: 1\n",
      "GeForce GTX 980 : 1\n",
      "GeForce GTX 970M: 2\n",
      "Radeon R5 M330: 5\n",
      "FirePro W4190M: 1\n",
      "FirePro W6150M: 1\n",
      "Radeon R5 M315: 1\n",
      "Quadro M500M: 1\n",
      "Radeon R7 M360: 1\n",
      "Quadro M3000M: 1\n",
      "GeForce 960M: 1\n"
     ]
    }
   ],
   "source": [
    "for gpu in list(df.gpu_model.unique()):\n",
    "    print(f'{gpu}: {len(df[df.gpu_model == gpu])}')"
   ]
  },
  {
   "cell_type": "code",
   "execution_count": 42,
   "metadata": {},
   "outputs": [],
   "source": [
    "# removing gpu_brand, cpu_model as gpu have more values;\n",
    "df = df.drop(['gpu_model', 'cpu_model'], axis=1)"
   ]
  },
  {
   "cell_type": "code",
   "execution_count": 43,
   "metadata": {},
   "outputs": [
    {
     "data": {
      "text/html": [
       "<div>\n",
       "<style scoped>\n",
       "    .dataframe tbody tr th:only-of-type {\n",
       "        vertical-align: middle;\n",
       "    }\n",
       "\n",
       "    .dataframe tbody tr th {\n",
       "        vertical-align: top;\n",
       "    }\n",
       "\n",
       "    .dataframe thead th {\n",
       "        text-align: right;\n",
       "    }\n",
       "</style>\n",
       "<table border=\"1\" class=\"dataframe\">\n",
       "  <thead>\n",
       "    <tr style=\"text-align: right;\">\n",
       "      <th></th>\n",
       "      <th>company</th>\n",
       "      <th>ram</th>\n",
       "      <th>price_euros</th>\n",
       "      <th>cpu_company</th>\n",
       "      <th>cpu_freq</th>\n",
       "      <th>primarystorage</th>\n",
       "      <th>primarystoragetype</th>\n",
       "      <th>gpu_company</th>\n",
       "      <th>category</th>\n",
       "      <th>OS</th>\n",
       "      <th>resolution</th>\n",
       "      <th>gen</th>\n",
       "    </tr>\n",
       "  </thead>\n",
       "  <tbody>\n",
       "    <tr>\n",
       "      <th>0</th>\n",
       "      <td>Apple</td>\n",
       "      <td>8</td>\n",
       "      <td>1339.69</td>\n",
       "      <td>Intel</td>\n",
       "      <td>2.3</td>\n",
       "      <td>128</td>\n",
       "      <td>SSD</td>\n",
       "      <td>Intel</td>\n",
       "      <td>portable</td>\n",
       "      <td>mac</td>\n",
       "      <td>QuadHD</td>\n",
       "      <td>i5</td>\n",
       "    </tr>\n",
       "    <tr>\n",
       "      <th>1</th>\n",
       "      <td>Apple</td>\n",
       "      <td>8</td>\n",
       "      <td>898.94</td>\n",
       "      <td>Intel</td>\n",
       "      <td>1.8</td>\n",
       "      <td>128</td>\n",
       "      <td>Flash Storage</td>\n",
       "      <td>Intel</td>\n",
       "      <td>portable</td>\n",
       "      <td>mac</td>\n",
       "      <td>HD</td>\n",
       "      <td>i5</td>\n",
       "    </tr>\n",
       "    <tr>\n",
       "      <th>2</th>\n",
       "      <td>HP</td>\n",
       "      <td>8</td>\n",
       "      <td>575.00</td>\n",
       "      <td>Intel</td>\n",
       "      <td>2.5</td>\n",
       "      <td>256</td>\n",
       "      <td>SSD</td>\n",
       "      <td>Intel</td>\n",
       "      <td>standard</td>\n",
       "      <td>other</td>\n",
       "      <td>FullHD</td>\n",
       "      <td>i5</td>\n",
       "    </tr>\n",
       "    <tr>\n",
       "      <th>3</th>\n",
       "      <td>Apple</td>\n",
       "      <td>16</td>\n",
       "      <td>2537.45</td>\n",
       "      <td>Intel</td>\n",
       "      <td>2.7</td>\n",
       "      <td>512</td>\n",
       "      <td>SSD</td>\n",
       "      <td>AMD</td>\n",
       "      <td>standard</td>\n",
       "      <td>mac</td>\n",
       "      <td>QuadHD</td>\n",
       "      <td>i7</td>\n",
       "    </tr>\n",
       "    <tr>\n",
       "      <th>4</th>\n",
       "      <td>Apple</td>\n",
       "      <td>8</td>\n",
       "      <td>1803.60</td>\n",
       "      <td>Intel</td>\n",
       "      <td>3.1</td>\n",
       "      <td>256</td>\n",
       "      <td>SSD</td>\n",
       "      <td>Intel</td>\n",
       "      <td>portable</td>\n",
       "      <td>mac</td>\n",
       "      <td>QuadHD</td>\n",
       "      <td>i5</td>\n",
       "    </tr>\n",
       "  </tbody>\n",
       "</table>\n",
       "</div>"
      ],
      "text/plain": [
       "  company  ram  price_euros cpu_company  cpu_freq  primarystorage  \\\n",
       "0   Apple    8      1339.69       Intel       2.3             128   \n",
       "1   Apple    8       898.94       Intel       1.8             128   \n",
       "2      HP    8       575.00       Intel       2.5             256   \n",
       "3   Apple   16      2537.45       Intel       2.7             512   \n",
       "4   Apple    8      1803.60       Intel       3.1             256   \n",
       "\n",
       "  primarystoragetype gpu_company  category     OS resolution gen  \n",
       "0                SSD       Intel  portable    mac     QuadHD  i5  \n",
       "1      Flash Storage       Intel  portable    mac         HD  i5  \n",
       "2                SSD       Intel  standard  other     FullHD  i5  \n",
       "3                SSD         AMD  standard    mac     QuadHD  i7  \n",
       "4                SSD       Intel  portable    mac     QuadHD  i5  "
      ]
     },
     "execution_count": 43,
     "metadata": {},
     "output_type": "execute_result"
    }
   ],
   "source": [
    "df.head()"
   ]
  },
  {
   "cell_type": "code",
   "execution_count": 44,
   "metadata": {},
   "outputs": [
    {
     "data": {
      "text/plain": [
       "array(['SSD', 'Flash Storage', 'HDD', 'Hybrid'], dtype=object)"
      ]
     },
     "execution_count": 44,
     "metadata": {},
     "output_type": "execute_result"
    }
   ],
   "source": [
    "# primary storage type\n",
    "df.primarystoragetype.unique()"
   ]
  },
  {
   "cell_type": "code",
   "execution_count": 45,
   "metadata": {},
   "outputs": [
    {
     "name": "stdout",
     "output_type": "stream",
     "text": [
      "SSD: 746\n",
      "Flash Storage: 60\n",
      "HDD: 356\n",
      "Hybrid: 8\n"
     ]
    }
   ],
   "source": [
    "for storage in list(df.primarystoragetype.unique()):\n",
    "    print(f'{storage}: {len(df[df.primarystoragetype == storage])}')"
   ]
  },
  {
   "cell_type": "code",
   "execution_count": 46,
   "metadata": {},
   "outputs": [
    {
     "data": {
      "text/plain": [
       "array(['Intel', 'AMD'], dtype=object)"
      ]
     },
     "execution_count": 46,
     "metadata": {},
     "output_type": "execute_result"
    }
   ],
   "source": [
    "df.cpu_company.unique()"
   ]
  },
  {
   "cell_type": "code",
   "execution_count": 47,
   "metadata": {},
   "outputs": [
    {
     "data": {
      "text/plain": [
       "['company',\n",
       " 'cpu_company',\n",
       " 'primarystoragetype',\n",
       " 'gpu_company',\n",
       " 'category',\n",
       " 'OS',\n",
       " 'resolution',\n",
       " 'gen']"
      ]
     },
     "execution_count": 47,
     "metadata": {},
     "output_type": "execute_result"
    }
   ],
   "source": [
    "strings = list(df.dtypes[df.dtypes == 'object'].index)\n",
    "strings"
   ]
  },
  {
   "cell_type": "code",
   "execution_count": 48,
   "metadata": {},
   "outputs": [],
   "source": [
    "df[strings] = df[strings].apply(lambda x: x.str.lower().str.replace(' ', '_'))\n",
    "df.columns = df.columns.str.lower()"
   ]
  },
  {
   "cell_type": "code",
   "execution_count": 49,
   "metadata": {},
   "outputs": [],
   "source": [
    "# converting euros to lkr\n",
    "df['price_lkr'] = round(df['price_euros']*307.15/3, 2)\n",
    "df = df.drop('price_euros', axis=1)"
   ]
  },
  {
   "cell_type": "code",
   "execution_count": 50,
   "metadata": {},
   "outputs": [
    {
     "data": {
      "text/html": [
       "<div>\n",
       "<style scoped>\n",
       "    .dataframe tbody tr th:only-of-type {\n",
       "        vertical-align: middle;\n",
       "    }\n",
       "\n",
       "    .dataframe tbody tr th {\n",
       "        vertical-align: top;\n",
       "    }\n",
       "\n",
       "    .dataframe thead th {\n",
       "        text-align: right;\n",
       "    }\n",
       "</style>\n",
       "<table border=\"1\" class=\"dataframe\">\n",
       "  <thead>\n",
       "    <tr style=\"text-align: right;\">\n",
       "      <th></th>\n",
       "      <th>company</th>\n",
       "      <th>ram</th>\n",
       "      <th>cpu_company</th>\n",
       "      <th>cpu_freq</th>\n",
       "      <th>primarystorage</th>\n",
       "      <th>primarystoragetype</th>\n",
       "      <th>gpu_company</th>\n",
       "      <th>category</th>\n",
       "      <th>os</th>\n",
       "      <th>resolution</th>\n",
       "      <th>gen</th>\n",
       "      <th>price_lkr</th>\n",
       "    </tr>\n",
       "  </thead>\n",
       "  <tbody>\n",
       "    <tr>\n",
       "      <th>0</th>\n",
       "      <td>apple</td>\n",
       "      <td>8</td>\n",
       "      <td>intel</td>\n",
       "      <td>2.3</td>\n",
       "      <td>128</td>\n",
       "      <td>ssd</td>\n",
       "      <td>intel</td>\n",
       "      <td>portable</td>\n",
       "      <td>mac</td>\n",
       "      <td>quadhd</td>\n",
       "      <td>i5</td>\n",
       "      <td>137161.93</td>\n",
       "    </tr>\n",
       "    <tr>\n",
       "      <th>1</th>\n",
       "      <td>apple</td>\n",
       "      <td>8</td>\n",
       "      <td>intel</td>\n",
       "      <td>1.8</td>\n",
       "      <td>128</td>\n",
       "      <td>flash_storage</td>\n",
       "      <td>intel</td>\n",
       "      <td>portable</td>\n",
       "      <td>mac</td>\n",
       "      <td>hd</td>\n",
       "      <td>i5</td>\n",
       "      <td>92036.47</td>\n",
       "    </tr>\n",
       "    <tr>\n",
       "      <th>2</th>\n",
       "      <td>hp</td>\n",
       "      <td>8</td>\n",
       "      <td>intel</td>\n",
       "      <td>2.5</td>\n",
       "      <td>256</td>\n",
       "      <td>ssd</td>\n",
       "      <td>intel</td>\n",
       "      <td>standard</td>\n",
       "      <td>other</td>\n",
       "      <td>fullhd</td>\n",
       "      <td>i5</td>\n",
       "      <td>58870.42</td>\n",
       "    </tr>\n",
       "    <tr>\n",
       "      <th>3</th>\n",
       "      <td>apple</td>\n",
       "      <td>16</td>\n",
       "      <td>intel</td>\n",
       "      <td>2.7</td>\n",
       "      <td>512</td>\n",
       "      <td>ssd</td>\n",
       "      <td>amd</td>\n",
       "      <td>standard</td>\n",
       "      <td>mac</td>\n",
       "      <td>quadhd</td>\n",
       "      <td>i7</td>\n",
       "      <td>259792.59</td>\n",
       "    </tr>\n",
       "    <tr>\n",
       "      <th>4</th>\n",
       "      <td>apple</td>\n",
       "      <td>8</td>\n",
       "      <td>intel</td>\n",
       "      <td>3.1</td>\n",
       "      <td>256</td>\n",
       "      <td>ssd</td>\n",
       "      <td>intel</td>\n",
       "      <td>portable</td>\n",
       "      <td>mac</td>\n",
       "      <td>quadhd</td>\n",
       "      <td>i5</td>\n",
       "      <td>184658.58</td>\n",
       "    </tr>\n",
       "  </tbody>\n",
       "</table>\n",
       "</div>"
      ],
      "text/plain": [
       "  company  ram cpu_company  cpu_freq  primarystorage primarystoragetype  \\\n",
       "0   apple    8       intel       2.3             128                ssd   \n",
       "1   apple    8       intel       1.8             128      flash_storage   \n",
       "2      hp    8       intel       2.5             256                ssd   \n",
       "3   apple   16       intel       2.7             512                ssd   \n",
       "4   apple    8       intel       3.1             256                ssd   \n",
       "\n",
       "  gpu_company  category     os resolution gen  price_lkr  \n",
       "0       intel  portable    mac     quadhd  i5  137161.93  \n",
       "1       intel  portable    mac         hd  i5   92036.47  \n",
       "2       intel  standard  other     fullhd  i5   58870.42  \n",
       "3         amd  standard    mac     quadhd  i7  259792.59  \n",
       "4       intel  portable    mac     quadhd  i5  184658.58  "
      ]
     },
     "execution_count": 50,
     "metadata": {},
     "output_type": "execute_result"
    }
   ],
   "source": [
    "df.head()"
   ]
  },
  {
   "cell_type": "code",
   "execution_count": 51,
   "metadata": {},
   "outputs": [
    {
     "data": {
      "text/plain": [
       "count      1170.00\n",
       "mean     112283.03\n",
       "std       67838.22\n",
       "min       17814.70\n",
       "25%       61248.27\n",
       "50%       97161.78\n",
       "75%      145130.94\n",
       "max      501575.95\n",
       "Name: price_lkr, dtype: float64"
      ]
     },
     "execution_count": 51,
     "metadata": {},
     "output_type": "execute_result"
    }
   ],
   "source": [
    "round(df.price_lkr.describe(),2)"
   ]
  },
  {
   "cell_type": "code",
   "execution_count": 52,
   "metadata": {},
   "outputs": [
    {
     "data": {
      "text/plain": [
       "<seaborn.axisgrid.FacetGrid at 0x211fa1536a0>"
      ]
     },
     "execution_count": 52,
     "metadata": {},
     "output_type": "execute_result"
    },
    {
     "data": {
      "image/png": "[encoded data removed]",
      "text/plain": [
       "<Figure size 500x500 with 1 Axes>"
      ]
     },
     "metadata": {},
     "output_type": "display_data"
    }
   ],
   "source": [
    "sns.displot(data=df, x='price_lkr', bins=100)"
   ]
  },
  {
   "cell_type": "code",
   "execution_count": 53,
   "metadata": {},
   "outputs": [
    {
     "data": {
      "text/plain": [
       "0       11.828925\n",
       "1       11.429951\n",
       "2       10.983111\n",
       "3       12.467643\n",
       "4       12.126269\n",
       "          ...    \n",
       "1165    11.087078\n",
       "1166    11.941284\n",
       "1167    10.062488\n",
       "1168    11.267305\n",
       "1169    10.539547\n",
       "Name: price_lkr, Length: 1170, dtype: float64"
      ]
     },
     "execution_count": 53,
     "metadata": {},
     "output_type": "execute_result"
    }
   ],
   "source": [
    "# converting prices\n",
    "price_logs = np.log1p(df.price_lkr)\n",
    "price_logs"
   ]
  },
  {
   "cell_type": "code",
   "execution_count": 54,
   "metadata": {},
   "outputs": [
    {
     "data": {
      "image/png": "[encoded data removed]",
      "text/plain": [
       "<Figure size 640x480 with 1 Axes>"
      ]
     },
     "metadata": {},
     "output_type": "display_data"
    }
   ],
   "source": [
    "sns.histplot(price_logs, bins=100);"
   ]
  },
  {
   "cell_type": "code",
   "execution_count": 55,
   "metadata": {},
   "outputs": [
    {
     "data": {
      "text/plain": [
       "count    1170.000000\n",
       "mean       11.454537\n",
       "std         0.601406\n",
       "min         9.787835\n",
       "25%        11.022707\n",
       "50%        11.484143\n",
       "75%        11.885397\n",
       "max        13.125512\n",
       "Name: price_lkr, dtype: float64"
      ]
     },
     "execution_count": 55,
     "metadata": {},
     "output_type": "execute_result"
    }
   ],
   "source": [
    "price_logs.describe()"
   ]
  },
  {
   "cell_type": "markdown",
   "metadata": {},
   "source": [
    "### Model Validation"
   ]
  },
  {
   "cell_type": "code",
   "execution_count": 56,
   "metadata": {},
   "outputs": [],
   "source": [
    "from sklearn.model_selection import train_test_split"
   ]
  },
  {
   "cell_type": "code",
   "execution_count": 57,
   "metadata": {},
   "outputs": [],
   "source": [
    "df_full_train, df_test = train_test_split(df, test_size=0.2, random_state=42)"
   ]
  },
  {
   "cell_type": "code",
   "execution_count": 58,
   "metadata": {},
   "outputs": [],
   "source": [
    "df_train, df_val = train_test_split(df_full_train, test_size=0.25, random_state=42)"
   ]
  },
  {
   "cell_type": "code",
   "execution_count": 59,
   "metadata": {},
   "outputs": [],
   "source": [
    "df_train = df_train.reset_index(drop=True)\n",
    "df_val = df_val.reset_index(drop=True)\n",
    "df_test = df_test.reset_index(drop=True)"
   ]
  },
  {
   "cell_type": "code",
   "execution_count": 60,
   "metadata": {},
   "outputs": [],
   "source": [
    "y_train = np.log1p(df_train.price_lkr.values)\n",
    "y_val = np.log1p(df_val.price_lkr.values)\n",
    "y_test = np.log1p(df_test.price_lkr.values)"
   ]
  },
  {
   "cell_type": "code",
   "execution_count": 61,
   "metadata": {},
   "outputs": [],
   "source": [
    "del df_train['price_lkr']\n",
    "del df_val['price_lkr']\n",
    "del df_test['price_lkr']"
   ]
  },
  {
   "cell_type": "code",
   "execution_count": 62,
   "metadata": {},
   "outputs": [
    {
     "name": "stdout",
     "output_type": "stream",
     "text": [
      "<class 'pandas.core.frame.DataFrame'>\n",
      "RangeIndex: 1170 entries, 0 to 1169\n",
      "Data columns (total 12 columns):\n",
      " #   Column              Non-Null Count  Dtype  \n",
      "---  ------              --------------  -----  \n",
      " 0   company             1170 non-null   object \n",
      " 1   ram                 1170 non-null   int64  \n",
      " 2   cpu_company         1170 non-null   object \n",
      " 3   cpu_freq            1170 non-null   float64\n",
      " 4   primarystorage      1170 non-null   int64  \n",
      " 5   primarystoragetype  1170 non-null   object \n",
      " 6   gpu_company         1170 non-null   object \n",
      " 7   category            1170 non-null   object \n",
      " 8   os                  1170 non-null   object \n",
      " 9   resolution          1170 non-null   object \n",
      " 10  gen                 1170 non-null   object \n",
      " 11  price_lkr           1170 non-null   float64\n",
      "dtypes: float64(2), int64(2), object(8)\n",
      "memory usage: 109.8+ KB\n"
     ]
    }
   ],
   "source": [
    "df.info()"
   ]
  },
  {
   "cell_type": "code",
   "execution_count": 63,
   "metadata": {},
   "outputs": [],
   "source": [
    "numerical = ['ram', 'cpu_freq', 'primarystorage']\n",
    "\n",
    "categorical = [\n",
    "    'company',\n",
    "    'cpu_company',\n",
    "    'primarystoragetype',\n",
    "    'gpu_company',\n",
    "    'category',\n",
    "    'os',\n",
    "    'resolution',\n",
    "    'gen'\n",
    "]"
   ]
  },
  {
   "cell_type": "markdown",
   "metadata": {},
   "source": [
    "#### One-Hot Encoding"
   ]
  },
  {
   "cell_type": "code",
   "execution_count": 64,
   "metadata": {},
   "outputs": [],
   "source": [
    "from sklearn.feature_extraction import DictVectorizer"
   ]
  },
  {
   "cell_type": "code",
   "execution_count": 65,
   "metadata": {},
   "outputs": [],
   "source": [
    "dv = DictVectorizer(sparse=False)"
   ]
  },
  {
   "cell_type": "code",
   "execution_count": 66,
   "metadata": {},
   "outputs": [],
   "source": [
    "train_dict = df_train[categorical + numerical].to_dict(orient='records')\n",
    "X_train = dv.fit_transform(train_dict)\n",
    "\n",
    "val_dict = df_val[categorical + numerical].to_dict(orient='records')\n",
    "X_val = dv.transform(val_dict)"
   ]
  },
  {
   "cell_type": "code",
   "execution_count": 67,
   "metadata": {},
   "outputs": [],
   "source": [
    "# rmse\n",
    "def rmse(y, y_pred):\n",
    "    error = y-y_pred\n",
    "    sr = error ** 2\n",
    "    mse = sr.mean()\n",
    "    return np.sqrt(mse)"
   ]
  },
  {
   "cell_type": "code",
   "execution_count": 68,
   "metadata": {},
   "outputs": [],
   "source": [
    "from sklearn.linear_model import LinearRegression\n",
    "from sklearn.tree import DecisionTreeRegressor\n",
    "from sklearn.ensemble import RandomForestRegressor"
   ]
  },
  {
   "cell_type": "code",
   "execution_count": 69,
   "metadata": {},
   "outputs": [
    {
     "data": {
      "text/html": [
       "<style>#sk-container-id-1 {color: black;}#sk-container-id-1 pre{padding: 0;}#sk-container-id-1 div.sk-toggleable {background-color: white;}#sk-container-id-1 label.sk-toggleable__label {cursor: pointer;display: block;width: 100%;margin-bottom: 0;padding: 0.3em;box-sizing: border-box;text-align: center;}#sk-container-id-1 label.sk-toggleable__label-arrow:before {content: \"▸\";float: left;margin-right: 0.25em;color: #696969;}#sk-container-id-1 label.sk-toggleable__label-arrow:hover:before {color: black;}#sk-container-id-1 div.sk-estimator:hover label.sk-toggleable__label-arrow:before {color: black;}#sk-container-id-1 div.sk-toggleable__content {max-height: 0;max-width: 0;overflow: hidden;text-align: left;background-color: #f0f8ff;}#sk-container-id-1 div.sk-toggleable__content pre {margin: 0.2em;color: black;border-radius: 0.25em;background-color: #f0f8ff;}#sk-container-id-1 input.sk-toggleable__control:checked~div.sk-toggleable__content {max-height: 200px;max-width: 100%;overflow: auto;}#sk-container-id-1 input.sk-toggleable__control:checked~label.sk-toggleable__label-arrow:before {content: \"▾\";}#sk-container-id-1 div.sk-estimator input.sk-toggleable__control:checked~label.sk-toggleable__label {background-color: #d4ebff;}#sk-container-id-1 div.sk-label input.sk-toggleable__control:checked~label.sk-toggleable__label {background-color: #d4ebff;}#sk-container-id-1 input.sk-hidden--visually {border: 0;clip: rect(1px 1px 1px 1px);clip: rect(1px, 1px, 1px, 1px);height: 1px;margin: -1px;overflow: hidden;padding: 0;position: absolute;width: 1px;}#sk-container-id-1 div.sk-estimator {font-family: monospace;background-color: #f0f8ff;border: 1px dotted black;border-radius: 0.25em;box-sizing: border-box;margin-bottom: 0.5em;}#sk-container-id-1 div.sk-estimator:hover {background-color: #d4ebff;}#sk-container-id-1 div.sk-parallel-item::after {content: \"\";width: 100%;border-bottom: 1px solid gray;flex-grow: 1;}#sk-container-id-1 div.sk-label:hover label.sk-toggleable__label {background-color: #d4ebff;}#sk-container-id-1 div.sk-serial::before {content: \"\";position: absolute;border-left: 1px solid gray;box-sizing: border-box;top: 0;bottom: 0;left: 50%;z-index: 0;}#sk-container-id-1 div.sk-serial {display: flex;flex-direction: column;align-items: center;background-color: white;padding-right: 0.2em;padding-left: 0.2em;position: relative;}#sk-container-id-1 div.sk-item {position: relative;z-index: 1;}#sk-container-id-1 div.sk-parallel {display: flex;align-items: stretch;justify-content: center;background-color: white;position: relative;}#sk-container-id-1 div.sk-item::before, #sk-container-id-1 div.sk-parallel-item::before {content: \"\";position: absolute;border-left: 1px solid gray;box-sizing: border-box;top: 0;bottom: 0;left: 50%;z-index: -1;}#sk-container-id-1 div.sk-parallel-item {display: flex;flex-direction: column;z-index: 1;position: relative;background-color: white;}#sk-container-id-1 div.sk-parallel-item:first-child::after {align-self: flex-end;width: 50%;}#sk-container-id-1 div.sk-parallel-item:last-child::after {align-self: flex-start;width: 50%;}#sk-container-id-1 div.sk-parallel-item:only-child::after {width: 0;}#sk-container-id-1 div.sk-dashed-wrapped {border: 1px dashed gray;margin: 0 0.4em 0.5em 0.4em;box-sizing: border-box;padding-bottom: 0.4em;background-color: white;}#sk-container-id-1 div.sk-label label {font-family: monospace;font-weight: bold;display: inline-block;line-height: 1.2em;}#sk-container-id-1 div.sk-label-container {text-align: center;}#sk-container-id-1 div.sk-container {/* jupyter's `normalize.less` sets `[hidden] { display: none; }` but bootstrap.min.css set `[hidden] { display: none !important; }` so we also need the `!important` here to be able to override the default hidden behavior on the sphinx rendered scikit-learn.org. See: https://github.com/scikit-learn/scikit-learn/issues/21755 */display: inline-block !important;position: relative;}#sk-container-id-1 div.sk-text-repr-fallback {display: none;}</style><div id=\"sk-container-id-1\" class=\"sk-top-container\"><div class=\"sk-text-repr-fallback\"><pre>LinearRegression()</pre><b>In a Jupyter environment, please rerun this cell to show the HTML representation or trust the notebook. <br />On GitHub, the HTML representation is unable to render, please try loading this page with nbviewer.org.</b></div><div class=\"sk-container\" hidden><div class=\"sk-item\"><div class=\"sk-estimator sk-toggleable\"><input class=\"sk-toggleable__control sk-hidden--visually\" id=\"sk-estimator-id-1\" type=\"checkbox\" checked><label for=\"sk-estimator-id-1\" class=\"sk-toggleable__label sk-toggleable__label-arrow\">LinearRegression</label><div class=\"sk-toggleable__content\"><pre>LinearRegression()</pre></div></div></div></div></div>"
      ],
      "text/plain": [
       "LinearRegression()"
      ]
     },
     "execution_count": 69,
     "metadata": {},
     "output_type": "execute_result"
    }
   ],
   "source": [
    "model1 = LinearRegression()\n",
    "model1.fit(X_train, y_train)"
   ]
  },
  {
   "cell_type": "markdown",
   "metadata": {},
   "source": [
    "#### DecisionTreeRegressor Parameter Tuning"
   ]
  },
  {
   "cell_type": "code",
   "execution_count": 70,
   "metadata": {},
   "outputs": [
    {
     "name": "stdout",
     "output_type": "stream",
     "text": [
      "depth: 1, min_samples_split: 2, rmse: 0.462\n",
      "depth: 1, min_samples_split: 4, rmse: 0.462\n",
      "depth: 1, min_samples_split: 8, rmse: 0.462\n",
      "depth: 1, min_samples_split: 10, rmse: 0.462\n",
      "depth: 1, min_samples_split: 20, rmse: 0.462\n",
      "depth: 1, min_samples_split: 50, rmse: 0.462\n",
      "depth: 2, min_samples_split: 2, rmse: 0.375\n",
      "depth: 2, min_samples_split: 4, rmse: 0.375\n",
      "depth: 2, min_samples_split: 8, rmse: 0.375\n",
      "depth: 2, min_samples_split: 10, rmse: 0.375\n",
      "depth: 2, min_samples_split: 20, rmse: 0.375\n",
      "depth: 2, min_samples_split: 50, rmse: 0.375\n",
      "depth: 3, min_samples_split: 2, rmse: 0.337\n",
      "depth: 3, min_samples_split: 4, rmse: 0.337\n",
      "depth: 3, min_samples_split: 8, rmse: 0.337\n",
      "depth: 3, min_samples_split: 10, rmse: 0.337\n",
      "depth: 3, min_samples_split: 20, rmse: 0.337\n",
      "depth: 3, min_samples_split: 50, rmse: 0.337\n",
      "depth: 4, min_samples_split: 2, rmse: 0.292\n",
      "depth: 4, min_samples_split: 4, rmse: 0.292\n",
      "depth: 4, min_samples_split: 8, rmse: 0.292\n",
      "depth: 4, min_samples_split: 10, rmse: 0.292\n",
      "depth: 4, min_samples_split: 20, rmse: 0.292\n",
      "depth: 4, min_samples_split: 50, rmse: 0.291\n",
      "depth: 5, min_samples_split: 2, rmse: 0.286\n",
      "depth: 5, min_samples_split: 4, rmse: 0.284\n",
      "depth: 5, min_samples_split: 8, rmse: 0.278\n",
      "depth: 5, min_samples_split: 10, rmse: 0.278\n",
      "depth: 5, min_samples_split: 20, rmse: 0.278\n",
      "depth: 5, min_samples_split: 50, rmse: 0.282\n",
      "depth: 10, min_samples_split: 2, rmse: 0.259\n",
      "depth: 10, min_samples_split: 4, rmse: 0.265\n",
      "depth: 10, min_samples_split: 8, rmse: 0.264\n",
      "depth: 10, min_samples_split: 10, rmse: 0.259\n",
      "depth: 10, min_samples_split: 20, rmse: 0.272\n",
      "depth: 10, min_samples_split: 50, rmse: 0.266\n",
      "depth: 100, min_samples_split: 2, rmse: 0.296\n",
      "depth: 100, min_samples_split: 4, rmse: 0.285\n",
      "depth: 100, min_samples_split: 8, rmse: 0.267\n",
      "depth: 100, min_samples_split: 10, rmse: 0.267\n",
      "depth: 100, min_samples_split: 20, rmse: 0.268\n",
      "depth: 100, min_samples_split: 50, rmse: 0.266\n",
      "depth: None, min_samples_split: 2, rmse: 0.301\n",
      "depth: None, min_samples_split: 4, rmse: 0.284\n",
      "depth: None, min_samples_split: 8, rmse: 0.268\n",
      "depth: None, min_samples_split: 10, rmse: 0.266\n",
      "depth: None, min_samples_split: 20, rmse: 0.268\n",
      "depth: None, min_samples_split: 50, rmse: 0.266\n"
     ]
    }
   ],
   "source": [
    "depths = [1, 2, 3, 4, 5, 10, 100, None]\n",
    "min_samples_splits = [2, 4, 8, 10, 20, 50]\n",
    "for depth in depths:\n",
    "    for min_samples_split in min_samples_splits:\n",
    "        model2 = DecisionTreeRegressor(max_depth=depth, min_samples_split=min_samples_split)\n",
    "        model2.fit(X_train, y_train)\n",
    "        y_pred_2 = model2.predict(X_val)\n",
    "        print(f'depth: {depth}, min_samples_split: {min_samples_split}, rmse: {round(rmse(y_val, y_pred_2),3)}')\n"
   ]
  },
  {
   "cell_type": "markdown",
   "metadata": {},
   "source": [
    "#### RandomForestRegressor Parameter Tuning"
   ]
  },
  {
   "cell_type": "code",
   "execution_count": 71,
   "metadata": {},
   "outputs": [
    {
     "name": "stdout",
     "output_type": "stream",
     "text": [
      "n_estimators: 100, depth: 1, min_samples_split: 2, rmse: 0.462\n",
      "n_estimators: 200, depth: 1, min_samples_split: 2, rmse: 0.462\n",
      "n_estimators: 300, depth: 1, min_samples_split: 2, rmse: 0.462\n",
      "n_estimators: 400, depth: 1, min_samples_split: 2, rmse: 0.462\n",
      "n_estimators: 500, depth: 1, min_samples_split: 2, rmse: 0.462\n",
      "n_estimators: 100, depth: 1, min_samples_split: 4, rmse: 0.462\n",
      "n_estimators: 200, depth: 1, min_samples_split: 4, rmse: 0.462\n",
      "n_estimators: 300, depth: 1, min_samples_split: 4, rmse: 0.462\n",
      "n_estimators: 400, depth: 1, min_samples_split: 4, rmse: 0.462\n",
      "n_estimators: 500, depth: 1, min_samples_split: 4, rmse: 0.462\n",
      "n_estimators: 100, depth: 1, min_samples_split: 8, rmse: 0.462\n",
      "n_estimators: 200, depth: 1, min_samples_split: 8, rmse: 0.462\n",
      "n_estimators: 300, depth: 1, min_samples_split: 8, rmse: 0.462\n",
      "n_estimators: 400, depth: 1, min_samples_split: 8, rmse: 0.462\n",
      "n_estimators: 500, depth: 1, min_samples_split: 8, rmse: 0.462\n",
      "n_estimators: 100, depth: 1, min_samples_split: 10, rmse: 0.462\n",
      "n_estimators: 200, depth: 1, min_samples_split: 10, rmse: 0.462\n",
      "n_estimators: 300, depth: 1, min_samples_split: 10, rmse: 0.462\n",
      "n_estimators: 400, depth: 1, min_samples_split: 10, rmse: 0.462\n",
      "n_estimators: 500, depth: 1, min_samples_split: 10, rmse: 0.462\n",
      "n_estimators: 100, depth: 1, min_samples_split: 20, rmse: 0.462\n",
      "n_estimators: 200, depth: 1, min_samples_split: 20, rmse: 0.462\n",
      "n_estimators: 300, depth: 1, min_samples_split: 20, rmse: 0.462\n",
      "n_estimators: 400, depth: 1, min_samples_split: 20, rmse: 0.462\n",
      "n_estimators: 500, depth: 1, min_samples_split: 20, rmse: 0.462\n",
      "n_estimators: 100, depth: 1, min_samples_split: 50, rmse: 0.462\n",
      "n_estimators: 200, depth: 1, min_samples_split: 50, rmse: 0.462\n",
      "n_estimators: 300, depth: 1, min_samples_split: 50, rmse: 0.462\n",
      "n_estimators: 400, depth: 1, min_samples_split: 50, rmse: 0.462\n",
      "n_estimators: 500, depth: 1, min_samples_split: 50, rmse: 0.462\n",
      "n_estimators: 100, depth: 2, min_samples_split: 2, rmse: 0.37\n",
      "n_estimators: 200, depth: 2, min_samples_split: 2, rmse: 0.368\n",
      "n_estimators: 300, depth: 2, min_samples_split: 2, rmse: 0.368\n",
      "n_estimators: 400, depth: 2, min_samples_split: 2, rmse: 0.369\n",
      "n_estimators: 500, depth: 2, min_samples_split: 2, rmse: 0.369\n",
      "n_estimators: 100, depth: 2, min_samples_split: 4, rmse: 0.367\n",
      "n_estimators: 200, depth: 2, min_samples_split: 4, rmse: 0.369\n",
      "n_estimators: 300, depth: 2, min_samples_split: 4, rmse: 0.369\n",
      "n_estimators: 400, depth: 2, min_samples_split: 4, rmse: 0.369\n",
      "n_estimators: 500, depth: 2, min_samples_split: 4, rmse: 0.368\n",
      "n_estimators: 100, depth: 2, min_samples_split: 8, rmse: 0.37\n",
      "n_estimators: 200, depth: 2, min_samples_split: 8, rmse: 0.368\n",
      "n_estimators: 300, depth: 2, min_samples_split: 8, rmse: 0.37\n",
      "n_estimators: 400, depth: 2, min_samples_split: 8, rmse: 0.369\n",
      "n_estimators: 500, depth: 2, min_samples_split: 8, rmse: 0.37\n",
      "n_estimators: 100, depth: 2, min_samples_split: 10, rmse: 0.369\n",
      "n_estimators: 200, depth: 2, min_samples_split: 10, rmse: 0.368\n",
      "n_estimators: 300, depth: 2, min_samples_split: 10, rmse: 0.37\n",
      "n_estimators: 400, depth: 2, min_samples_split: 10, rmse: 0.368\n",
      "n_estimators: 500, depth: 2, min_samples_split: 10, rmse: 0.37\n",
      "n_estimators: 100, depth: 2, min_samples_split: 20, rmse: 0.371\n",
      "n_estimators: 200, depth: 2, min_samples_split: 20, rmse: 0.368\n",
      "n_estimators: 300, depth: 2, min_samples_split: 20, rmse: 0.37\n",
      "n_estimators: 400, depth: 2, min_samples_split: 20, rmse: 0.368\n",
      "n_estimators: 500, depth: 2, min_samples_split: 20, rmse: 0.369\n",
      "n_estimators: 100, depth: 2, min_samples_split: 50, rmse: 0.37\n",
      "n_estimators: 200, depth: 2, min_samples_split: 50, rmse: 0.366\n",
      "n_estimators: 300, depth: 2, min_samples_split: 50, rmse: 0.37\n",
      "n_estimators: 400, depth: 2, min_samples_split: 50, rmse: 0.368\n",
      "n_estimators: 500, depth: 2, min_samples_split: 50, rmse: 0.368\n",
      "n_estimators: 100, depth: 3, min_samples_split: 2, rmse: 0.309\n",
      "n_estimators: 200, depth: 3, min_samples_split: 2, rmse: 0.312\n",
      "n_estimators: 300, depth: 3, min_samples_split: 2, rmse: 0.308\n",
      "n_estimators: 400, depth: 3, min_samples_split: 2, rmse: 0.31\n",
      "n_estimators: 500, depth: 3, min_samples_split: 2, rmse: 0.311\n",
      "n_estimators: 100, depth: 3, min_samples_split: 4, rmse: 0.309\n",
      "n_estimators: 200, depth: 3, min_samples_split: 4, rmse: 0.311\n",
      "n_estimators: 300, depth: 3, min_samples_split: 4, rmse: 0.309\n",
      "n_estimators: 400, depth: 3, min_samples_split: 4, rmse: 0.31\n",
      "n_estimators: 500, depth: 3, min_samples_split: 4, rmse: 0.31\n",
      "n_estimators: 100, depth: 3, min_samples_split: 8, rmse: 0.309\n",
      "n_estimators: 200, depth: 3, min_samples_split: 8, rmse: 0.309\n",
      "n_estimators: 300, depth: 3, min_samples_split: 8, rmse: 0.309\n",
      "n_estimators: 400, depth: 3, min_samples_split: 8, rmse: 0.311\n",
      "n_estimators: 500, depth: 3, min_samples_split: 8, rmse: 0.31\n",
      "n_estimators: 100, depth: 3, min_samples_split: 10, rmse: 0.311\n",
      "n_estimators: 200, depth: 3, min_samples_split: 10, rmse: 0.313\n",
      "n_estimators: 300, depth: 3, min_samples_split: 10, rmse: 0.31\n",
      "n_estimators: 400, depth: 3, min_samples_split: 10, rmse: 0.31\n",
      "n_estimators: 500, depth: 3, min_samples_split: 10, rmse: 0.31\n",
      "n_estimators: 100, depth: 3, min_samples_split: 20, rmse: 0.309\n",
      "n_estimators: 200, depth: 3, min_samples_split: 20, rmse: 0.311\n",
      "n_estimators: 300, depth: 3, min_samples_split: 20, rmse: 0.312\n",
      "n_estimators: 400, depth: 3, min_samples_split: 20, rmse: 0.311\n",
      "n_estimators: 500, depth: 3, min_samples_split: 20, rmse: 0.309\n",
      "n_estimators: 100, depth: 3, min_samples_split: 50, rmse: 0.309\n",
      "n_estimators: 200, depth: 3, min_samples_split: 50, rmse: 0.31\n",
      "n_estimators: 300, depth: 3, min_samples_split: 50, rmse: 0.311\n",
      "n_estimators: 400, depth: 3, min_samples_split: 50, rmse: 0.312\n",
      "n_estimators: 500, depth: 3, min_samples_split: 50, rmse: 0.311\n",
      "n_estimators: 100, depth: 4, min_samples_split: 2, rmse: 0.276\n",
      "n_estimators: 200, depth: 4, min_samples_split: 2, rmse: 0.276\n",
      "n_estimators: 300, depth: 4, min_samples_split: 2, rmse: 0.275\n",
      "n_estimators: 400, depth: 4, min_samples_split: 2, rmse: 0.274\n",
      "n_estimators: 500, depth: 4, min_samples_split: 2, rmse: 0.275\n",
      "n_estimators: 100, depth: 4, min_samples_split: 4, rmse: 0.275\n",
      "n_estimators: 200, depth: 4, min_samples_split: 4, rmse: 0.275\n",
      "n_estimators: 300, depth: 4, min_samples_split: 4, rmse: 0.275\n",
      "n_estimators: 400, depth: 4, min_samples_split: 4, rmse: 0.275\n",
      "n_estimators: 500, depth: 4, min_samples_split: 4, rmse: 0.273\n",
      "n_estimators: 100, depth: 4, min_samples_split: 8, rmse: 0.276\n",
      "n_estimators: 200, depth: 4, min_samples_split: 8, rmse: 0.276\n",
      "n_estimators: 300, depth: 4, min_samples_split: 8, rmse: 0.276\n",
      "n_estimators: 400, depth: 4, min_samples_split: 8, rmse: 0.275\n",
      "n_estimators: 500, depth: 4, min_samples_split: 8, rmse: 0.275\n",
      "n_estimators: 100, depth: 4, min_samples_split: 10, rmse: 0.277\n",
      "n_estimators: 200, depth: 4, min_samples_split: 10, rmse: 0.275\n",
      "n_estimators: 300, depth: 4, min_samples_split: 10, rmse: 0.276\n",
      "n_estimators: 400, depth: 4, min_samples_split: 10, rmse: 0.275\n",
      "n_estimators: 500, depth: 4, min_samples_split: 10, rmse: 0.275\n",
      "n_estimators: 100, depth: 4, min_samples_split: 20, rmse: 0.274\n",
      "n_estimators: 200, depth: 4, min_samples_split: 20, rmse: 0.276\n",
      "n_estimators: 300, depth: 4, min_samples_split: 20, rmse: 0.274\n",
      "n_estimators: 400, depth: 4, min_samples_split: 20, rmse: 0.274\n",
      "n_estimators: 500, depth: 4, min_samples_split: 20, rmse: 0.275\n",
      "n_estimators: 100, depth: 4, min_samples_split: 50, rmse: 0.286\n",
      "n_estimators: 200, depth: 4, min_samples_split: 50, rmse: 0.283\n",
      "n_estimators: 300, depth: 4, min_samples_split: 50, rmse: 0.284\n",
      "n_estimators: 400, depth: 4, min_samples_split: 50, rmse: 0.283\n",
      "n_estimators: 500, depth: 4, min_samples_split: 50, rmse: 0.284\n",
      "n_estimators: 100, depth: 5, min_samples_split: 2, rmse: 0.255\n",
      "n_estimators: 200, depth: 5, min_samples_split: 2, rmse: 0.253\n",
      "n_estimators: 300, depth: 5, min_samples_split: 2, rmse: 0.254\n",
      "n_estimators: 400, depth: 5, min_samples_split: 2, rmse: 0.253\n",
      "n_estimators: 500, depth: 5, min_samples_split: 2, rmse: 0.253\n",
      "n_estimators: 100, depth: 5, min_samples_split: 4, rmse: 0.256\n",
      "n_estimators: 200, depth: 5, min_samples_split: 4, rmse: 0.252\n",
      "n_estimators: 300, depth: 5, min_samples_split: 4, rmse: 0.253\n",
      "n_estimators: 400, depth: 5, min_samples_split: 4, rmse: 0.253\n",
      "n_estimators: 500, depth: 5, min_samples_split: 4, rmse: 0.253\n",
      "n_estimators: 100, depth: 5, min_samples_split: 8, rmse: 0.254\n",
      "n_estimators: 200, depth: 5, min_samples_split: 8, rmse: 0.253\n",
      "n_estimators: 300, depth: 5, min_samples_split: 8, rmse: 0.253\n",
      "n_estimators: 400, depth: 5, min_samples_split: 8, rmse: 0.254\n",
      "n_estimators: 500, depth: 5, min_samples_split: 8, rmse: 0.253\n",
      "n_estimators: 100, depth: 5, min_samples_split: 10, rmse: 0.255\n",
      "n_estimators: 200, depth: 5, min_samples_split: 10, rmse: 0.254\n",
      "n_estimators: 300, depth: 5, min_samples_split: 10, rmse: 0.252\n",
      "n_estimators: 400, depth: 5, min_samples_split: 10, rmse: 0.254\n",
      "n_estimators: 500, depth: 5, min_samples_split: 10, rmse: 0.254\n",
      "n_estimators: 100, depth: 5, min_samples_split: 20, rmse: 0.255\n",
      "n_estimators: 200, depth: 5, min_samples_split: 20, rmse: 0.254\n",
      "n_estimators: 300, depth: 5, min_samples_split: 20, rmse: 0.254\n",
      "n_estimators: 400, depth: 5, min_samples_split: 20, rmse: 0.255\n",
      "n_estimators: 500, depth: 5, min_samples_split: 20, rmse: 0.255\n",
      "n_estimators: 100, depth: 5, min_samples_split: 50, rmse: 0.27\n",
      "n_estimators: 200, depth: 5, min_samples_split: 50, rmse: 0.268\n",
      "n_estimators: 300, depth: 5, min_samples_split: 50, rmse: 0.269\n",
      "n_estimators: 400, depth: 5, min_samples_split: 50, rmse: 0.27\n",
      "n_estimators: 500, depth: 5, min_samples_split: 50, rmse: 0.27\n",
      "n_estimators: 100, depth: 10, min_samples_split: 2, rmse: 0.223\n",
      "n_estimators: 200, depth: 10, min_samples_split: 2, rmse: 0.223\n",
      "n_estimators: 300, depth: 10, min_samples_split: 2, rmse: 0.225\n",
      "n_estimators: 400, depth: 10, min_samples_split: 2, rmse: 0.224\n",
      "n_estimators: 500, depth: 10, min_samples_split: 2, rmse: 0.223\n",
      "n_estimators: 100, depth: 10, min_samples_split: 4, rmse: 0.226\n",
      "n_estimators: 200, depth: 10, min_samples_split: 4, rmse: 0.224\n",
      "n_estimators: 300, depth: 10, min_samples_split: 4, rmse: 0.226\n",
      "n_estimators: 400, depth: 10, min_samples_split: 4, rmse: 0.224\n",
      "n_estimators: 500, depth: 10, min_samples_split: 4, rmse: 0.223\n",
      "n_estimators: 100, depth: 10, min_samples_split: 8, rmse: 0.227\n",
      "n_estimators: 200, depth: 10, min_samples_split: 8, rmse: 0.227\n",
      "n_estimators: 300, depth: 10, min_samples_split: 8, rmse: 0.225\n",
      "n_estimators: 400, depth: 10, min_samples_split: 8, rmse: 0.226\n",
      "n_estimators: 500, depth: 10, min_samples_split: 8, rmse: 0.225\n",
      "n_estimators: 100, depth: 10, min_samples_split: 10, rmse: 0.228\n",
      "n_estimators: 200, depth: 10, min_samples_split: 10, rmse: 0.227\n",
      "n_estimators: 300, depth: 10, min_samples_split: 10, rmse: 0.229\n",
      "n_estimators: 400, depth: 10, min_samples_split: 10, rmse: 0.226\n",
      "n_estimators: 500, depth: 10, min_samples_split: 10, rmse: 0.227\n",
      "n_estimators: 100, depth: 10, min_samples_split: 20, rmse: 0.237\n",
      "n_estimators: 200, depth: 10, min_samples_split: 20, rmse: 0.235\n",
      "n_estimators: 300, depth: 10, min_samples_split: 20, rmse: 0.236\n",
      "n_estimators: 400, depth: 10, min_samples_split: 20, rmse: 0.236\n",
      "n_estimators: 500, depth: 10, min_samples_split: 20, rmse: 0.236\n",
      "n_estimators: 100, depth: 10, min_samples_split: 50, rmse: 0.261\n",
      "n_estimators: 200, depth: 10, min_samples_split: 50, rmse: 0.263\n",
      "n_estimators: 300, depth: 10, min_samples_split: 50, rmse: 0.263\n",
      "n_estimators: 400, depth: 10, min_samples_split: 50, rmse: 0.262\n",
      "n_estimators: 500, depth: 10, min_samples_split: 50, rmse: 0.262\n",
      "n_estimators: 100, depth: 100, min_samples_split: 2, rmse: 0.23\n",
      "n_estimators: 200, depth: 100, min_samples_split: 2, rmse: 0.232\n",
      "n_estimators: 300, depth: 100, min_samples_split: 2, rmse: 0.23\n",
      "n_estimators: 400, depth: 100, min_samples_split: 2, rmse: 0.229\n",
      "n_estimators: 500, depth: 100, min_samples_split: 2, rmse: 0.231\n",
      "n_estimators: 100, depth: 100, min_samples_split: 4, rmse: 0.227\n",
      "n_estimators: 200, depth: 100, min_samples_split: 4, rmse: 0.225\n",
      "n_estimators: 300, depth: 100, min_samples_split: 4, rmse: 0.226\n",
      "n_estimators: 400, depth: 100, min_samples_split: 4, rmse: 0.226\n",
      "n_estimators: 500, depth: 100, min_samples_split: 4, rmse: 0.226\n",
      "n_estimators: 100, depth: 100, min_samples_split: 8, rmse: 0.228\n",
      "n_estimators: 200, depth: 100, min_samples_split: 8, rmse: 0.226\n",
      "n_estimators: 300, depth: 100, min_samples_split: 8, rmse: 0.225\n",
      "n_estimators: 400, depth: 100, min_samples_split: 8, rmse: 0.226\n",
      "n_estimators: 500, depth: 100, min_samples_split: 8, rmse: 0.224\n",
      "n_estimators: 100, depth: 100, min_samples_split: 10, rmse: 0.227\n",
      "n_estimators: 200, depth: 100, min_samples_split: 10, rmse: 0.227\n",
      "n_estimators: 300, depth: 100, min_samples_split: 10, rmse: 0.226\n",
      "n_estimators: 400, depth: 100, min_samples_split: 10, rmse: 0.227\n",
      "n_estimators: 500, depth: 100, min_samples_split: 10, rmse: 0.227\n",
      "n_estimators: 100, depth: 100, min_samples_split: 20, rmse: 0.236\n",
      "n_estimators: 200, depth: 100, min_samples_split: 20, rmse: 0.234\n",
      "n_estimators: 300, depth: 100, min_samples_split: 20, rmse: 0.237\n",
      "n_estimators: 400, depth: 100, min_samples_split: 20, rmse: 0.235\n",
      "n_estimators: 500, depth: 100, min_samples_split: 20, rmse: 0.236\n",
      "n_estimators: 100, depth: 100, min_samples_split: 50, rmse: 0.262\n",
      "n_estimators: 200, depth: 100, min_samples_split: 50, rmse: 0.263\n",
      "n_estimators: 300, depth: 100, min_samples_split: 50, rmse: 0.261\n",
      "n_estimators: 400, depth: 100, min_samples_split: 50, rmse: 0.263\n",
      "n_estimators: 500, depth: 100, min_samples_split: 50, rmse: 0.262\n",
      "n_estimators: 100, depth: None, min_samples_split: 2, rmse: 0.23\n",
      "n_estimators: 200, depth: None, min_samples_split: 2, rmse: 0.232\n",
      "n_estimators: 300, depth: None, min_samples_split: 2, rmse: 0.232\n",
      "n_estimators: 400, depth: None, min_samples_split: 2, rmse: 0.233\n",
      "n_estimators: 500, depth: None, min_samples_split: 2, rmse: 0.231\n",
      "n_estimators: 100, depth: None, min_samples_split: 4, rmse: 0.227\n",
      "n_estimators: 200, depth: None, min_samples_split: 4, rmse: 0.227\n",
      "n_estimators: 300, depth: None, min_samples_split: 4, rmse: 0.226\n",
      "n_estimators: 400, depth: None, min_samples_split: 4, rmse: 0.225\n",
      "n_estimators: 500, depth: None, min_samples_split: 4, rmse: 0.226\n",
      "n_estimators: 100, depth: None, min_samples_split: 8, rmse: 0.226\n",
      "n_estimators: 200, depth: None, min_samples_split: 8, rmse: 0.226\n",
      "n_estimators: 300, depth: None, min_samples_split: 8, rmse: 0.223\n",
      "n_estimators: 400, depth: None, min_samples_split: 8, rmse: 0.226\n",
      "n_estimators: 500, depth: None, min_samples_split: 8, rmse: 0.225\n",
      "n_estimators: 100, depth: None, min_samples_split: 10, rmse: 0.226\n",
      "n_estimators: 200, depth: None, min_samples_split: 10, rmse: 0.225\n",
      "n_estimators: 300, depth: None, min_samples_split: 10, rmse: 0.228\n",
      "n_estimators: 400, depth: None, min_samples_split: 10, rmse: 0.228\n",
      "n_estimators: 500, depth: None, min_samples_split: 10, rmse: 0.227\n",
      "n_estimators: 100, depth: None, min_samples_split: 20, rmse: 0.237\n",
      "n_estimators: 200, depth: None, min_samples_split: 20, rmse: 0.235\n",
      "n_estimators: 300, depth: None, min_samples_split: 20, rmse: 0.235\n",
      "n_estimators: 400, depth: None, min_samples_split: 20, rmse: 0.235\n",
      "n_estimators: 500, depth: None, min_samples_split: 20, rmse: 0.235\n",
      "n_estimators: 100, depth: None, min_samples_split: 50, rmse: 0.262\n",
      "n_estimators: 200, depth: None, min_samples_split: 50, rmse: 0.263\n",
      "n_estimators: 300, depth: None, min_samples_split: 50, rmse: 0.262\n",
      "n_estimators: 400, depth: None, min_samples_split: 50, rmse: 0.262\n",
      "n_estimators: 500, depth: None, min_samples_split: 50, rmse: 0.262\n"
     ]
    }
   ],
   "source": [
    "estimators = [100, 200, 300, 400, 500]\n",
    "depths = [1, 2, 3, 4, 5, 10, 100, None]\n",
    "min_samples_splits = [2, 4, 8, 10, 20, 50]\n",
    "for depth in depths:\n",
    "    for min_samples_split in min_samples_splits:\n",
    "        for estimator in estimators:\n",
    "            model3 = RandomForestRegressor(n_estimators=estimator, max_depth=depth, min_samples_split=min_samples_split)\n",
    "            model3.fit(X_train, y_train)\n",
    "            y_pred_3 = model3.predict(X_val)\n",
    "            print(f'n_estimators: {estimator}, depth: {depth}, min_samples_split: {min_samples_split}, rmse: {round(rmse(y_val, y_pred_3),3)}')\n",
    "\n"
   ]
  },
  {
   "cell_type": "code",
   "execution_count": 72,
   "metadata": {},
   "outputs": [
    {
     "data": {
      "text/html": [
       "<style>#sk-container-id-2 {color: black;}#sk-container-id-2 pre{padding: 0;}#sk-container-id-2 div.sk-toggleable {background-color: white;}#sk-container-id-2 label.sk-toggleable__label {cursor: pointer;display: block;width: 100%;margin-bottom: 0;padding: 0.3em;box-sizing: border-box;text-align: center;}#sk-container-id-2 label.sk-toggleable__label-arrow:before {content: \"▸\";float: left;margin-right: 0.25em;color: #696969;}#sk-container-id-2 label.sk-toggleable__label-arrow:hover:before {color: black;}#sk-container-id-2 div.sk-estimator:hover label.sk-toggleable__label-arrow:before {color: black;}#sk-container-id-2 div.sk-toggleable__content {max-height: 0;max-width: 0;overflow: hidden;text-align: left;background-color: #f0f8ff;}#sk-container-id-2 div.sk-toggleable__content pre {margin: 0.2em;color: black;border-radius: 0.25em;background-color: #f0f8ff;}#sk-container-id-2 input.sk-toggleable__control:checked~div.sk-toggleable__content {max-height: 200px;max-width: 100%;overflow: auto;}#sk-container-id-2 input.sk-toggleable__control:checked~label.sk-toggleable__label-arrow:before {content: \"▾\";}#sk-container-id-2 div.sk-estimator input.sk-toggleable__control:checked~label.sk-toggleable__label {background-color: #d4ebff;}#sk-container-id-2 div.sk-label input.sk-toggleable__control:checked~label.sk-toggleable__label {background-color: #d4ebff;}#sk-container-id-2 input.sk-hidden--visually {border: 0;clip: rect(1px 1px 1px 1px);clip: rect(1px, 1px, 1px, 1px);height: 1px;margin: -1px;overflow: hidden;padding: 0;position: absolute;width: 1px;}#sk-container-id-2 div.sk-estimator {font-family: monospace;background-color: #f0f8ff;border: 1px dotted black;border-radius: 0.25em;box-sizing: border-box;margin-bottom: 0.5em;}#sk-container-id-2 div.sk-estimator:hover {background-color: #d4ebff;}#sk-container-id-2 div.sk-parallel-item::after {content: \"\";width: 100%;border-bottom: 1px solid gray;flex-grow: 1;}#sk-container-id-2 div.sk-label:hover label.sk-toggleable__label {background-color: #d4ebff;}#sk-container-id-2 div.sk-serial::before {content: \"\";position: absolute;border-left: 1px solid gray;box-sizing: border-box;top: 0;bottom: 0;left: 50%;z-index: 0;}#sk-container-id-2 div.sk-serial {display: flex;flex-direction: column;align-items: center;background-color: white;padding-right: 0.2em;padding-left: 0.2em;position: relative;}#sk-container-id-2 div.sk-item {position: relative;z-index: 1;}#sk-container-id-2 div.sk-parallel {display: flex;align-items: stretch;justify-content: center;background-color: white;position: relative;}#sk-container-id-2 div.sk-item::before, #sk-container-id-2 div.sk-parallel-item::before {content: \"\";position: absolute;border-left: 1px solid gray;box-sizing: border-box;top: 0;bottom: 0;left: 50%;z-index: -1;}#sk-container-id-2 div.sk-parallel-item {display: flex;flex-direction: column;z-index: 1;position: relative;background-color: white;}#sk-container-id-2 div.sk-parallel-item:first-child::after {align-self: flex-end;width: 50%;}#sk-container-id-2 div.sk-parallel-item:last-child::after {align-self: flex-start;width: 50%;}#sk-container-id-2 div.sk-parallel-item:only-child::after {width: 0;}#sk-container-id-2 div.sk-dashed-wrapped {border: 1px dashed gray;margin: 0 0.4em 0.5em 0.4em;box-sizing: border-box;padding-bottom: 0.4em;background-color: white;}#sk-container-id-2 div.sk-label label {font-family: monospace;font-weight: bold;display: inline-block;line-height: 1.2em;}#sk-container-id-2 div.sk-label-container {text-align: center;}#sk-container-id-2 div.sk-container {/* jupyter's `normalize.less` sets `[hidden] { display: none; }` but bootstrap.min.css set `[hidden] { display: none !important; }` so we also need the `!important` here to be able to override the default hidden behavior on the sphinx rendered scikit-learn.org. See: https://github.com/scikit-learn/scikit-learn/issues/21755 */display: inline-block !important;position: relative;}#sk-container-id-2 div.sk-text-repr-fallback {display: none;}</style><div id=\"sk-container-id-2\" class=\"sk-top-container\"><div class=\"sk-text-repr-fallback\"><pre>DecisionTreeRegressor(max_depth=10, min_samples_split=10)</pre><b>In a Jupyter environment, please rerun this cell to show the HTML representation or trust the notebook. <br />On GitHub, the HTML representation is unable to render, please try loading this page with nbviewer.org.</b></div><div class=\"sk-container\" hidden><div class=\"sk-item\"><div class=\"sk-estimator sk-toggleable\"><input class=\"sk-toggleable__control sk-hidden--visually\" id=\"sk-estimator-id-2\" type=\"checkbox\" checked><label for=\"sk-estimator-id-2\" class=\"sk-toggleable__label sk-toggleable__label-arrow\">DecisionTreeRegressor</label><div class=\"sk-toggleable__content\"><pre>DecisionTreeRegressor(max_depth=10, min_samples_split=10)</pre></div></div></div></div></div>"
      ],
      "text/plain": [
       "DecisionTreeRegressor(max_depth=10, min_samples_split=10)"
      ]
     },
     "execution_count": 72,
     "metadata": {},
     "output_type": "execute_result"
    }
   ],
   "source": [
    "# depth: 10, min_samples_splits: 10\n",
    "model2 = DecisionTreeRegressor(max_depth=10, min_samples_split=10)\n",
    "model2.fit(X_train, y_train)"
   ]
  },
  {
   "cell_type": "code",
   "execution_count": 73,
   "metadata": {},
   "outputs": [
    {
     "data": {
      "text/html": [
       "<style>#sk-container-id-3 {color: black;}#sk-container-id-3 pre{padding: 0;}#sk-container-id-3 div.sk-toggleable {background-color: white;}#sk-container-id-3 label.sk-toggleable__label {cursor: pointer;display: block;width: 100%;margin-bottom: 0;padding: 0.3em;box-sizing: border-box;text-align: center;}#sk-container-id-3 label.sk-toggleable__label-arrow:before {content: \"▸\";float: left;margin-right: 0.25em;color: #696969;}#sk-container-id-3 label.sk-toggleable__label-arrow:hover:before {color: black;}#sk-container-id-3 div.sk-estimator:hover label.sk-toggleable__label-arrow:before {color: black;}#sk-container-id-3 div.sk-toggleable__content {max-height: 0;max-width: 0;overflow: hidden;text-align: left;background-color: #f0f8ff;}#sk-container-id-3 div.sk-toggleable__content pre {margin: 0.2em;color: black;border-radius: 0.25em;background-color: #f0f8ff;}#sk-container-id-3 input.sk-toggleable__control:checked~div.sk-toggleable__content {max-height: 200px;max-width: 100%;overflow: auto;}#sk-container-id-3 input.sk-toggleable__control:checked~label.sk-toggleable__label-arrow:before {content: \"▾\";}#sk-container-id-3 div.sk-estimator input.sk-toggleable__control:checked~label.sk-toggleable__label {background-color: #d4ebff;}#sk-container-id-3 div.sk-label input.sk-toggleable__control:checked~label.sk-toggleable__label {background-color: #d4ebff;}#sk-container-id-3 input.sk-hidden--visually {border: 0;clip: rect(1px 1px 1px 1px);clip: rect(1px, 1px, 1px, 1px);height: 1px;margin: -1px;overflow: hidden;padding: 0;position: absolute;width: 1px;}#sk-container-id-3 div.sk-estimator {font-family: monospace;background-color: #f0f8ff;border: 1px dotted black;border-radius: 0.25em;box-sizing: border-box;margin-bottom: 0.5em;}#sk-container-id-3 div.sk-estimator:hover {background-color: #d4ebff;}#sk-container-id-3 div.sk-parallel-item::after {content: \"\";width: 100%;border-bottom: 1px solid gray;flex-grow: 1;}#sk-container-id-3 div.sk-label:hover label.sk-toggleable__label {background-color: #d4ebff;}#sk-container-id-3 div.sk-serial::before {content: \"\";position: absolute;border-left: 1px solid gray;box-sizing: border-box;top: 0;bottom: 0;left: 50%;z-index: 0;}#sk-container-id-3 div.sk-serial {display: flex;flex-direction: column;align-items: center;background-color: white;padding-right: 0.2em;padding-left: 0.2em;position: relative;}#sk-container-id-3 div.sk-item {position: relative;z-index: 1;}#sk-container-id-3 div.sk-parallel {display: flex;align-items: stretch;justify-content: center;background-color: white;position: relative;}#sk-container-id-3 div.sk-item::before, #sk-container-id-3 div.sk-parallel-item::before {content: \"\";position: absolute;border-left: 1px solid gray;box-sizing: border-box;top: 0;bottom: 0;left: 50%;z-index: -1;}#sk-container-id-3 div.sk-parallel-item {display: flex;flex-direction: column;z-index: 1;position: relative;background-color: white;}#sk-container-id-3 div.sk-parallel-item:first-child::after {align-self: flex-end;width: 50%;}#sk-container-id-3 div.sk-parallel-item:last-child::after {align-self: flex-start;width: 50%;}#sk-container-id-3 div.sk-parallel-item:only-child::after {width: 0;}#sk-container-id-3 div.sk-dashed-wrapped {border: 1px dashed gray;margin: 0 0.4em 0.5em 0.4em;box-sizing: border-box;padding-bottom: 0.4em;background-color: white;}#sk-container-id-3 div.sk-label label {font-family: monospace;font-weight: bold;display: inline-block;line-height: 1.2em;}#sk-container-id-3 div.sk-label-container {text-align: center;}#sk-container-id-3 div.sk-container {/* jupyter's `normalize.less` sets `[hidden] { display: none; }` but bootstrap.min.css set `[hidden] { display: none !important; }` so we also need the `!important` here to be able to override the default hidden behavior on the sphinx rendered scikit-learn.org. See: https://github.com/scikit-learn/scikit-learn/issues/21755 */display: inline-block !important;position: relative;}#sk-container-id-3 div.sk-text-repr-fallback {display: none;}</style><div id=\"sk-container-id-3\" class=\"sk-top-container\"><div class=\"sk-text-repr-fallback\"><pre>RandomForestRegressor(max_depth=10, min_samples_split=4, n_estimators=300)</pre><b>In a Jupyter environment, please rerun this cell to show the HTML representation or trust the notebook. <br />On GitHub, the HTML representation is unable to render, please try loading this page with nbviewer.org.</b></div><div class=\"sk-container\" hidden><div class=\"sk-item\"><div class=\"sk-estimator sk-toggleable\"><input class=\"sk-toggleable__control sk-hidden--visually\" id=\"sk-estimator-id-3\" type=\"checkbox\" checked><label for=\"sk-estimator-id-3\" class=\"sk-toggleable__label sk-toggleable__label-arrow\">RandomForestRegressor</label><div class=\"sk-toggleable__content\"><pre>RandomForestRegressor(max_depth=10, min_samples_split=4, n_estimators=300)</pre></div></div></div></div></div>"
      ],
      "text/plain": [
       "RandomForestRegressor(max_depth=10, min_samples_split=4, n_estimators=300)"
      ]
     },
     "execution_count": 73,
     "metadata": {},
     "output_type": "execute_result"
    }
   ],
   "source": [
    "# n_estimator=300, depth=10, min_samples_splits=4\n",
    "model3 = RandomForestRegressor(n_estimators=300, max_depth=10, min_samples_split=4)\n",
    "model3.fit(X_train, y_train)"
   ]
  },
  {
   "cell_type": "code",
   "execution_count": 74,
   "metadata": {},
   "outputs": [],
   "source": [
    "#finalized model\n",
    "y_pred_1 = model1.predict(X_val)\n",
    "y_pred_2 = model2.predict(X_val)\n",
    "y_pred_3 = model3.predict(X_val)"
   ]
  },
  {
   "cell_type": "code",
   "execution_count": 75,
   "metadata": {},
   "outputs": [
    {
     "data": {
      "text/plain": [
       "0.28212880542402613"
      ]
     },
     "execution_count": 75,
     "metadata": {},
     "output_type": "execute_result"
    }
   ],
   "source": [
    "rmse(y_val, y_pred_1)"
   ]
  },
  {
   "cell_type": "code",
   "execution_count": 76,
   "metadata": {},
   "outputs": [
    {
     "data": {
      "text/plain": [
       "0.2588127075658585"
      ]
     },
     "execution_count": 76,
     "metadata": {},
     "output_type": "execute_result"
    }
   ],
   "source": [
    "rmse(y_val, y_pred_2)"
   ]
  },
  {
   "cell_type": "code",
   "execution_count": 77,
   "metadata": {},
   "outputs": [
    {
     "data": {
      "text/plain": [
       "0.22301526563846025"
      ]
     },
     "execution_count": 77,
     "metadata": {},
     "output_type": "execute_result"
    }
   ],
   "source": [
    "rmse(y_val, y_pred_3)"
   ]
  },
  {
   "cell_type": "code",
   "execution_count": 78,
   "metadata": {},
   "outputs": [
    {
     "data": {
      "image/png": "[encoded data removed]",
      "text/plain": [
       "<Figure size 640x480 with 1 Axes>"
      ]
     },
     "metadata": {},
     "output_type": "display_data"
    }
   ],
   "source": [
    "sns.histplot(y_pred_1, color='red', bins=60, alpha=0.5, label='y_pred_1')\n",
    "sns.histplot(y_val, bins=60, alpha=0.5, label='y_val')\n",
    "plt.legend()\n",
    "plt.show()"
   ]
  },
  {
   "cell_type": "code",
   "execution_count": 79,
   "metadata": {},
   "outputs": [
    {
     "data": {
      "image/png": "[encoded data removed]",
      "text/plain": [
       "<Figure size 640x480 with 1 Axes>"
      ]
     },
     "metadata": {},
     "output_type": "display_data"
    }
   ],
   "source": [
    "sns.histplot(y_pred_2, color='yellow', bins=60, alpha=0.5, label='y_pred_2')\n",
    "sns.histplot(y_val, bins=60, alpha=0.5, label='y_val')\n",
    "plt.legend()\n",
    "plt.show()"
   ]
  },
  {
   "cell_type": "code",
   "execution_count": 80,
   "metadata": {},
   "outputs": [
    {
     "data": {
      "image/png": "[encoded data removed]",
      "text/plain": [
       "<Figure size 640x480 with 1 Axes>"
      ]
     },
     "metadata": {},
     "output_type": "display_data"
    }
   ],
   "source": [
    "sns.histplot(y_pred_3, color='orange', bins=60, alpha=0.5, label='y_pred_3')\n",
    "sns.histplot(y_val, bins=60, alpha=0.5, label='y_val')\n",
    "plt.legend()\n",
    "plt.show()"
   ]
  },
  {
   "cell_type": "code",
   "execution_count": 81,
   "metadata": {},
   "outputs": [],
   "source": [
    "def train(df_train, y_train, n_estimators=300, max_depth=10, min_samples_split=4):\n",
    "    dicts = df_train[categorical + numerical].to_dict(orient='records')\n",
    "\n",
    "    dv = DictVectorizer(sparse=False)\n",
    "    X_train = dv.fit_transform(dicts)\n",
    "\n",
    "    model = RandomForestRegressor(n_estimators=n_estimators, max_depth=max_depth, min_samples_split=min_samples_split)\n",
    "    model.fit(X_train, y_train)\n",
    "\n",
    "    return dv, model"
   ]
  },
  {
   "cell_type": "code",
   "execution_count": 82,
   "metadata": {},
   "outputs": [],
   "source": [
    "dv, model = train(df_train, y_train, n_estimators=300, max_depth=10, min_samples_split=4)"
   ]
  },
  {
   "cell_type": "code",
   "execution_count": 83,
   "metadata": {},
   "outputs": [
    {
     "data": {
      "text/html": [
       "<style>#sk-container-id-4 {color: black;}#sk-container-id-4 pre{padding: 0;}#sk-container-id-4 div.sk-toggleable {background-color: white;}#sk-container-id-4 label.sk-toggleable__label {cursor: pointer;display: block;width: 100%;margin-bottom: 0;padding: 0.3em;box-sizing: border-box;text-align: center;}#sk-container-id-4 label.sk-toggleable__label-arrow:before {content: \"▸\";float: left;margin-right: 0.25em;color: #696969;}#sk-container-id-4 label.sk-toggleable__label-arrow:hover:before {color: black;}#sk-container-id-4 div.sk-estimator:hover label.sk-toggleable__label-arrow:before {color: black;}#sk-container-id-4 div.sk-toggleable__content {max-height: 0;max-width: 0;overflow: hidden;text-align: left;background-color: #f0f8ff;}#sk-container-id-4 div.sk-toggleable__content pre {margin: 0.2em;color: black;border-radius: 0.25em;background-color: #f0f8ff;}#sk-container-id-4 input.sk-toggleable__control:checked~div.sk-toggleable__content {max-height: 200px;max-width: 100%;overflow: auto;}#sk-container-id-4 input.sk-toggleable__control:checked~label.sk-toggleable__label-arrow:before {content: \"▾\";}#sk-container-id-4 div.sk-estimator input.sk-toggleable__control:checked~label.sk-toggleable__label {background-color: #d4ebff;}#sk-container-id-4 div.sk-label input.sk-toggleable__control:checked~label.sk-toggleable__label {background-color: #d4ebff;}#sk-container-id-4 input.sk-hidden--visually {border: 0;clip: rect(1px 1px 1px 1px);clip: rect(1px, 1px, 1px, 1px);height: 1px;margin: -1px;overflow: hidden;padding: 0;position: absolute;width: 1px;}#sk-container-id-4 div.sk-estimator {font-family: monospace;background-color: #f0f8ff;border: 1px dotted black;border-radius: 0.25em;box-sizing: border-box;margin-bottom: 0.5em;}#sk-container-id-4 div.sk-estimator:hover {background-color: #d4ebff;}#sk-container-id-4 div.sk-parallel-item::after {content: \"\";width: 100%;border-bottom: 1px solid gray;flex-grow: 1;}#sk-container-id-4 div.sk-label:hover label.sk-toggleable__label {background-color: #d4ebff;}#sk-container-id-4 div.sk-serial::before {content: \"\";position: absolute;border-left: 1px solid gray;box-sizing: border-box;top: 0;bottom: 0;left: 50%;z-index: 0;}#sk-container-id-4 div.sk-serial {display: flex;flex-direction: column;align-items: center;background-color: white;padding-right: 0.2em;padding-left: 0.2em;position: relative;}#sk-container-id-4 div.sk-item {position: relative;z-index: 1;}#sk-container-id-4 div.sk-parallel {display: flex;align-items: stretch;justify-content: center;background-color: white;position: relative;}#sk-container-id-4 div.sk-item::before, #sk-container-id-4 div.sk-parallel-item::before {content: \"\";position: absolute;border-left: 1px solid gray;box-sizing: border-box;top: 0;bottom: 0;left: 50%;z-index: -1;}#sk-container-id-4 div.sk-parallel-item {display: flex;flex-direction: column;z-index: 1;position: relative;background-color: white;}#sk-container-id-4 div.sk-parallel-item:first-child::after {align-self: flex-end;width: 50%;}#sk-container-id-4 div.sk-parallel-item:last-child::after {align-self: flex-start;width: 50%;}#sk-container-id-4 div.sk-parallel-item:only-child::after {width: 0;}#sk-container-id-4 div.sk-dashed-wrapped {border: 1px dashed gray;margin: 0 0.4em 0.5em 0.4em;box-sizing: border-box;padding-bottom: 0.4em;background-color: white;}#sk-container-id-4 div.sk-label label {font-family: monospace;font-weight: bold;display: inline-block;line-height: 1.2em;}#sk-container-id-4 div.sk-label-container {text-align: center;}#sk-container-id-4 div.sk-container {/* jupyter's `normalize.less` sets `[hidden] { display: none; }` but bootstrap.min.css set `[hidden] { display: none !important; }` so we also need the `!important` here to be able to override the default hidden behavior on the sphinx rendered scikit-learn.org. See: https://github.com/scikit-learn/scikit-learn/issues/21755 */display: inline-block !important;position: relative;}#sk-container-id-4 div.sk-text-repr-fallback {display: none;}</style><div id=\"sk-container-id-4\" class=\"sk-top-container\"><div class=\"sk-text-repr-fallback\"><pre>DictVectorizer(sparse=False)</pre><b>In a Jupyter environment, please rerun this cell to show the HTML representation or trust the notebook. <br />On GitHub, the HTML representation is unable to render, please try loading this page with nbviewer.org.</b></div><div class=\"sk-container\" hidden><div class=\"sk-item\"><div class=\"sk-estimator sk-toggleable\"><input class=\"sk-toggleable__control sk-hidden--visually\" id=\"sk-estimator-id-4\" type=\"checkbox\" checked><label for=\"sk-estimator-id-4\" class=\"sk-toggleable__label sk-toggleable__label-arrow\">DictVectorizer</label><div class=\"sk-toggleable__content\"><pre>DictVectorizer(sparse=False)</pre></div></div></div></div></div>"
      ],
      "text/plain": [
       "DictVectorizer(sparse=False)"
      ]
     },
     "execution_count": 83,
     "metadata": {},
     "output_type": "execute_result"
    }
   ],
   "source": [
    "dv"
   ]
  },
  {
   "cell_type": "code",
   "execution_count": 84,
   "metadata": {},
   "outputs": [
    {
     "data": {
      "text/html": [
       "<style>#sk-container-id-5 {color: black;}#sk-container-id-5 pre{padding: 0;}#sk-container-id-5 div.sk-toggleable {background-color: white;}#sk-container-id-5 label.sk-toggleable__label {cursor: pointer;display: block;width: 100%;margin-bottom: 0;padding: 0.3em;box-sizing: border-box;text-align: center;}#sk-container-id-5 label.sk-toggleable__label-arrow:before {content: \"▸\";float: left;margin-right: 0.25em;color: #696969;}#sk-container-id-5 label.sk-toggleable__label-arrow:hover:before {color: black;}#sk-container-id-5 div.sk-estimator:hover label.sk-toggleable__label-arrow:before {color: black;}#sk-container-id-5 div.sk-toggleable__content {max-height: 0;max-width: 0;overflow: hidden;text-align: left;background-color: #f0f8ff;}#sk-container-id-5 div.sk-toggleable__content pre {margin: 0.2em;color: black;border-radius: 0.25em;background-color: #f0f8ff;}#sk-container-id-5 input.sk-toggleable__control:checked~div.sk-toggleable__content {max-height: 200px;max-width: 100%;overflow: auto;}#sk-container-id-5 input.sk-toggleable__control:checked~label.sk-toggleable__label-arrow:before {content: \"▾\";}#sk-container-id-5 div.sk-estimator input.sk-toggleable__control:checked~label.sk-toggleable__label {background-color: #d4ebff;}#sk-container-id-5 div.sk-label input.sk-toggleable__control:checked~label.sk-toggleable__label {background-color: #d4ebff;}#sk-container-id-5 input.sk-hidden--visually {border: 0;clip: rect(1px 1px 1px 1px);clip: rect(1px, 1px, 1px, 1px);height: 1px;margin: -1px;overflow: hidden;padding: 0;position: absolute;width: 1px;}#sk-container-id-5 div.sk-estimator {font-family: monospace;background-color: #f0f8ff;border: 1px dotted black;border-radius: 0.25em;box-sizing: border-box;margin-bottom: 0.5em;}#sk-container-id-5 div.sk-estimator:hover {background-color: #d4ebff;}#sk-container-id-5 div.sk-parallel-item::after {content: \"\";width: 100%;border-bottom: 1px solid gray;flex-grow: 1;}#sk-container-id-5 div.sk-label:hover label.sk-toggleable__label {background-color: #d4ebff;}#sk-container-id-5 div.sk-serial::before {content: \"\";position: absolute;border-left: 1px solid gray;box-sizing: border-box;top: 0;bottom: 0;left: 50%;z-index: 0;}#sk-container-id-5 div.sk-serial {display: flex;flex-direction: column;align-items: center;background-color: white;padding-right: 0.2em;padding-left: 0.2em;position: relative;}#sk-container-id-5 div.sk-item {position: relative;z-index: 1;}#sk-container-id-5 div.sk-parallel {display: flex;align-items: stretch;justify-content: center;background-color: white;position: relative;}#sk-container-id-5 div.sk-item::before, #sk-container-id-5 div.sk-parallel-item::before {content: \"\";position: absolute;border-left: 1px solid gray;box-sizing: border-box;top: 0;bottom: 0;left: 50%;z-index: -1;}#sk-container-id-5 div.sk-parallel-item {display: flex;flex-direction: column;z-index: 1;position: relative;background-color: white;}#sk-container-id-5 div.sk-parallel-item:first-child::after {align-self: flex-end;width: 50%;}#sk-container-id-5 div.sk-parallel-item:last-child::after {align-self: flex-start;width: 50%;}#sk-container-id-5 div.sk-parallel-item:only-child::after {width: 0;}#sk-container-id-5 div.sk-dashed-wrapped {border: 1px dashed gray;margin: 0 0.4em 0.5em 0.4em;box-sizing: border-box;padding-bottom: 0.4em;background-color: white;}#sk-container-id-5 div.sk-label label {font-family: monospace;font-weight: bold;display: inline-block;line-height: 1.2em;}#sk-container-id-5 div.sk-label-container {text-align: center;}#sk-container-id-5 div.sk-container {/* jupyter's `normalize.less` sets `[hidden] { display: none; }` but bootstrap.min.css set `[hidden] { display: none !important; }` so we also need the `!important` here to be able to override the default hidden behavior on the sphinx rendered scikit-learn.org. See: https://github.com/scikit-learn/scikit-learn/issues/21755 */display: inline-block !important;position: relative;}#sk-container-id-5 div.sk-text-repr-fallback {display: none;}</style><div id=\"sk-container-id-5\" class=\"sk-top-container\"><div class=\"sk-text-repr-fallback\"><pre>RandomForestRegressor(max_depth=10, min_samples_split=4, n_estimators=300)</pre><b>In a Jupyter environment, please rerun this cell to show the HTML representation or trust the notebook. <br />On GitHub, the HTML representation is unable to render, please try loading this page with nbviewer.org.</b></div><div class=\"sk-container\" hidden><div class=\"sk-item\"><div class=\"sk-estimator sk-toggleable\"><input class=\"sk-toggleable__control sk-hidden--visually\" id=\"sk-estimator-id-5\" type=\"checkbox\" checked><label for=\"sk-estimator-id-5\" class=\"sk-toggleable__label sk-toggleable__label-arrow\">RandomForestRegressor</label><div class=\"sk-toggleable__content\"><pre>RandomForestRegressor(max_depth=10, min_samples_split=4, n_estimators=300)</pre></div></div></div></div></div>"
      ],
      "text/plain": [
       "RandomForestRegressor(max_depth=10, min_samples_split=4, n_estimators=300)"
      ]
     },
     "execution_count": 84,
     "metadata": {},
     "output_type": "execute_result"
    }
   ],
   "source": [
    "model"
   ]
  },
  {
   "cell_type": "code",
   "execution_count": 85,
   "metadata": {},
   "outputs": [],
   "source": [
    "def predict(df, dv, model):\n",
    "    dicts = df[categorical + numerical].to_dict(orient='records')\n",
    "\n",
    "    X = dv.transform(dicts)\n",
    "    y_pred = model.predict(X)\n",
    "\n",
    "    return y_pred"
   ]
  },
  {
   "cell_type": "code",
   "execution_count": 86,
   "metadata": {},
   "outputs": [],
   "source": [
    "y_pred = predict(df_val, dv, model)"
   ]
  },
  {
   "cell_type": "code",
   "execution_count": 87,
   "metadata": {},
   "outputs": [],
   "source": [
    "from sklearn.model_selection import train_test_split, KFold\n",
    "from sklearn.metrics import roc_auc_score"
   ]
  },
  {
   "cell_type": "code",
   "execution_count": 88,
   "metadata": {},
   "outputs": [],
   "source": [
    "n_splits = [2, 3, 4, 5, 10, 20]"
   ]
  },
  {
   "cell_type": "code",
   "execution_count": 89,
   "metadata": {},
   "outputs": [
    {
     "name": "stdout",
     "output_type": "stream",
     "text": [
      "2 0.240 +- 0.009\n",
      "3 0.234 +- 0.015\n",
      "4 0.233 +- 0.020\n",
      "5 0.223 +- 0.019\n",
      "10 0.220 +- 0.019\n",
      "20 0.221 +- 0.027\n"
     ]
    }
   ],
   "source": [
    "for n_split in n_splits:\n",
    "    Kfold = KFold(n_splits=n_split, shuffle=True, random_state=1)\n",
    "\n",
    "    scores = []\n",
    "\n",
    "    for train_idx, val_idx in Kfold.split(df_full_train):\n",
    "        df_train = df_full_train.iloc[train_idx]\n",
    "        df_val = df_full_train.iloc[val_idx]\n",
    "\n",
    "        y_train = np.log1p(df_train.price_lkr.values)\n",
    "        y_val = np.log1p(df_val.price_lkr.values)\n",
    "\n",
    "        dv, model = train(df_train, y_train, n_estimators=300, max_depth=10, min_samples_split=4)\n",
    "        y_pred = predict(df_val, dv, model)\n",
    "\n",
    "        auc = rmse(y_val, y_pred)\n",
    "        scores.append(auc)\n",
    "\n",
    "    print('%s %.3f +- %.3f' % (n_split, np.mean(scores), np.std(scores)))"
   ]
  },
  {
   "cell_type": "code",
   "execution_count": 90,
   "metadata": {},
   "outputs": [],
   "source": [
    "# n_splits == 10; "
   ]
  },
  {
   "cell_type": "code",
   "execution_count": 91,
   "metadata": {},
   "outputs": [
    {
     "data": {
      "text/html": [
       "<div>\n",
       "<style scoped>\n",
       "    .dataframe tbody tr th:only-of-type {\n",
       "        vertical-align: middle;\n",
       "    }\n",
       "\n",
       "    .dataframe tbody tr th {\n",
       "        vertical-align: top;\n",
       "    }\n",
       "\n",
       "    .dataframe thead th {\n",
       "        text-align: right;\n",
       "    }\n",
       "</style>\n",
       "<table border=\"1\" class=\"dataframe\">\n",
       "  <thead>\n",
       "    <tr style=\"text-align: right;\">\n",
       "      <th></th>\n",
       "      <th>company</th>\n",
       "      <th>ram</th>\n",
       "      <th>cpu_company</th>\n",
       "      <th>cpu_freq</th>\n",
       "      <th>primarystorage</th>\n",
       "      <th>primarystoragetype</th>\n",
       "      <th>gpu_company</th>\n",
       "      <th>category</th>\n",
       "      <th>os</th>\n",
       "      <th>resolution</th>\n",
       "      <th>gen</th>\n",
       "    </tr>\n",
       "  </thead>\n",
       "  <tbody>\n",
       "    <tr>\n",
       "      <th>0</th>\n",
       "      <td>acer</td>\n",
       "      <td>16</td>\n",
       "      <td>intel</td>\n",
       "      <td>2.5</td>\n",
       "      <td>256</td>\n",
       "      <td>ssd</td>\n",
       "      <td>nvidia</td>\n",
       "      <td>other</td>\n",
       "      <td>windows</td>\n",
       "      <td>fullhd</td>\n",
       "      <td>i5</td>\n",
       "    </tr>\n",
       "    <tr>\n",
       "      <th>1</th>\n",
       "      <td>asus</td>\n",
       "      <td>4</td>\n",
       "      <td>amd</td>\n",
       "      <td>2.5</td>\n",
       "      <td>128</td>\n",
       "      <td>ssd</td>\n",
       "      <td>amd</td>\n",
       "      <td>standard</td>\n",
       "      <td>windows</td>\n",
       "      <td>fullhd</td>\n",
       "      <td>amd</td>\n",
       "    </tr>\n",
       "    <tr>\n",
       "      <th>2</th>\n",
       "      <td>lenovo</td>\n",
       "      <td>8</td>\n",
       "      <td>intel</td>\n",
       "      <td>2.5</td>\n",
       "      <td>256</td>\n",
       "      <td>ssd</td>\n",
       "      <td>intel</td>\n",
       "      <td>portable</td>\n",
       "      <td>windows</td>\n",
       "      <td>fullhd</td>\n",
       "      <td>i5</td>\n",
       "    </tr>\n",
       "    <tr>\n",
       "      <th>3</th>\n",
       "      <td>hp</td>\n",
       "      <td>8</td>\n",
       "      <td>intel</td>\n",
       "      <td>2.4</td>\n",
       "      <td>256</td>\n",
       "      <td>ssd</td>\n",
       "      <td>intel</td>\n",
       "      <td>standard</td>\n",
       "      <td>windows</td>\n",
       "      <td>fullhd</td>\n",
       "      <td>i5</td>\n",
       "    </tr>\n",
       "    <tr>\n",
       "      <th>4</th>\n",
       "      <td>lenovo</td>\n",
       "      <td>8</td>\n",
       "      <td>intel</td>\n",
       "      <td>2.5</td>\n",
       "      <td>256</td>\n",
       "      <td>ssd</td>\n",
       "      <td>nvidia</td>\n",
       "      <td>other</td>\n",
       "      <td>other</td>\n",
       "      <td>fullhd</td>\n",
       "      <td>i5</td>\n",
       "    </tr>\n",
       "    <tr>\n",
       "      <th>...</th>\n",
       "      <td>...</td>\n",
       "      <td>...</td>\n",
       "      <td>...</td>\n",
       "      <td>...</td>\n",
       "      <td>...</td>\n",
       "      <td>...</td>\n",
       "      <td>...</td>\n",
       "      <td>...</td>\n",
       "      <td>...</td>\n",
       "      <td>...</td>\n",
       "      <td>...</td>\n",
       "    </tr>\n",
       "    <tr>\n",
       "      <th>229</th>\n",
       "      <td>dell</td>\n",
       "      <td>12</td>\n",
       "      <td>intel</td>\n",
       "      <td>1.6</td>\n",
       "      <td>1024</td>\n",
       "      <td>hdd</td>\n",
       "      <td>nvidia</td>\n",
       "      <td>heavy_duty</td>\n",
       "      <td>windows</td>\n",
       "      <td>fullhd</td>\n",
       "      <td>i5</td>\n",
       "    </tr>\n",
       "    <tr>\n",
       "      <th>230</th>\n",
       "      <td>lenovo</td>\n",
       "      <td>4</td>\n",
       "      <td>intel</td>\n",
       "      <td>2.0</td>\n",
       "      <td>128</td>\n",
       "      <td>ssd</td>\n",
       "      <td>intel</td>\n",
       "      <td>standard</td>\n",
       "      <td>windows</td>\n",
       "      <td>hd</td>\n",
       "      <td>i3</td>\n",
       "    </tr>\n",
       "    <tr>\n",
       "      <th>231</th>\n",
       "      <td>acer</td>\n",
       "      <td>16</td>\n",
       "      <td>intel</td>\n",
       "      <td>2.8</td>\n",
       "      <td>256</td>\n",
       "      <td>ssd</td>\n",
       "      <td>nvidia</td>\n",
       "      <td>heavy_duty</td>\n",
       "      <td>windows</td>\n",
       "      <td>fullhd</td>\n",
       "      <td>i7</td>\n",
       "    </tr>\n",
       "    <tr>\n",
       "      <th>232</th>\n",
       "      <td>asus</td>\n",
       "      <td>4</td>\n",
       "      <td>intel</td>\n",
       "      <td>1.1</td>\n",
       "      <td>32</td>\n",
       "      <td>flash_storage</td>\n",
       "      <td>intel</td>\n",
       "      <td>portable</td>\n",
       "      <td>windows</td>\n",
       "      <td>hd</td>\n",
       "      <td>amd</td>\n",
       "    </tr>\n",
       "    <tr>\n",
       "      <th>233</th>\n",
       "      <td>lenovo</td>\n",
       "      <td>8</td>\n",
       "      <td>intel</td>\n",
       "      <td>2.8</td>\n",
       "      <td>256</td>\n",
       "      <td>ssd</td>\n",
       "      <td>nvidia</td>\n",
       "      <td>other</td>\n",
       "      <td>other</td>\n",
       "      <td>fullhd</td>\n",
       "      <td>i7</td>\n",
       "    </tr>\n",
       "  </tbody>\n",
       "</table>\n",
       "<p>234 rows × 11 columns</p>\n",
       "</div>"
      ],
      "text/plain": [
       "    company  ram cpu_company  cpu_freq  primarystorage primarystoragetype  \\\n",
       "0      acer   16       intel       2.5             256                ssd   \n",
       "1      asus    4         amd       2.5             128                ssd   \n",
       "2    lenovo    8       intel       2.5             256                ssd   \n",
       "3        hp    8       intel       2.4             256                ssd   \n",
       "4    lenovo    8       intel       2.5             256                ssd   \n",
       "..      ...  ...         ...       ...             ...                ...   \n",
       "229    dell   12       intel       1.6            1024                hdd   \n",
       "230  lenovo    4       intel       2.0             128                ssd   \n",
       "231    acer   16       intel       2.8             256                ssd   \n",
       "232    asus    4       intel       1.1              32      flash_storage   \n",
       "233  lenovo    8       intel       2.8             256                ssd   \n",
       "\n",
       "    gpu_company    category       os resolution  gen  \n",
       "0        nvidia       other  windows     fullhd   i5  \n",
       "1           amd    standard  windows     fullhd  amd  \n",
       "2         intel    portable  windows     fullhd   i5  \n",
       "3         intel    standard  windows     fullhd   i5  \n",
       "4        nvidia       other    other     fullhd   i5  \n",
       "..          ...         ...      ...        ...  ...  \n",
       "229      nvidia  heavy_duty  windows     fullhd   i5  \n",
       "230       intel    standard  windows         hd   i3  \n",
       "231      nvidia  heavy_duty  windows     fullhd   i7  \n",
       "232       intel    portable  windows         hd  amd  \n",
       "233      nvidia       other    other     fullhd   i7  \n",
       "\n",
       "[234 rows x 11 columns]"
      ]
     },
     "execution_count": 91,
     "metadata": {},
     "output_type": "execute_result"
    }
   ],
   "source": [
    "df_test"
   ]
  },
  {
   "cell_type": "code",
   "execution_count": 92,
   "metadata": {},
   "outputs": [
    {
     "data": {
      "text/plain": [
       "0.24940293353862308"
      ]
     },
     "execution_count": 92,
     "metadata": {},
     "output_type": "execute_result"
    }
   ],
   "source": [
    "dv, model = train(df_full_train, np.log1p(df_full_train.price_lkr.values), n_estimators=300, max_depth=10, min_samples_split=4)\n",
    "y_pred = predict(df_test, dv, model)\n",
    "rmse_value = rmse(y_test, y_pred)\n",
    "rmse_value"
   ]
  }
 ],
 "metadata": {
  "kaggle": {
   "accelerator": "none",
   "dataSources": [
    {
     "datasetId": 5669158,
     "sourceId": 9352248,
     "sourceType": "datasetVersion"
    }
   ],
   "dockerImageVersionId": 30786,
   "isGpuEnabled": false,
   "isInternetEnabled": true,
   "language": "python",
   "sourceType": "notebook"
  },
  "kernelspec": {
   "display_name": "mlzoomcamp-midtermproject-jCnxLmeg",
   "language": "python",
   "name": "python3"
  },
  "language_info": {
   "codemirror_mode": {
    "name": "ipython",
    "version": 3
   },
   "file_extension": ".py",
   "mimetype": "text/x-python",
   "name": "python",
   "nbconvert_exporter": "python",
   "pygments_lexer": "ipython3",
   "version": "3.10.0"
  }
 },
 "nbformat": 4,
 "nbformat_minor": 4
}
